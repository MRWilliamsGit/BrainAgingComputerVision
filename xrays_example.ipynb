{
  "cells": [
    {
      "cell_type": "markdown",
      "metadata": {
        "id": "h2OkAhQG2V8n"
      },
      "source": [
        "<a href='https://ai.meng.duke.edu'> = <img align=\"left\" style=\"padding-top:10px;\" src=https://storage.googleapis.com/aipi_datasets/Duke-AIPI-Logo.png>"
      ]
    },
    {
      "cell_type": "markdown",
      "metadata": {
        "id": "Hd6d5Y8L2V85"
      },
      "source": [
        "# Identifying Pneumothorax in Chest X-rays\n",
        "In this example notebook we are going to bring together several of the things we have learned about related to image classification and focus on two aspects that are critical for modeling real-world problems:  \n",
        "- Creating a custom Dataset in PyTorch to load images and labels in non-standard formats  \n",
        "- Loading and fine-tuning a pretrained model on a new task  \n",
        "\n",
        "Our objective in this exercise will be to identify [pneumothorax](https://en.wikipedia.org/wiki/Pneumothorax) from chest X-ray images. \n",
        "\n",
        "The data we will be working with is a set of chest X-rays in the DICOM (Digital Imaging and Communications in Medicine) format.  DICOM is a standard for medical images (X-rays, MRI, CT) which allows information to be exchanged between different imaging equipment and hospitals.  DICOM files include both a header and image data and have the file extension `.dcm`.  The file header can contain equipment information, patient information, study information, etc.\n",
        "\n",
        "The particular dataset we will work with is a subset of 250 DICOM files from the [NIH Chest X-ray Dataset](https://www.ncbi.nlm.nih.gov/pmc/articles/PMC7165201/), which includes 111,000 total chest X-ray images and associated labels of various diseases.  Of these a subset of 15302 was taken to include a mix of images labeled pneumothorax or normal.  The 250 we will use representes a small fraction of this subset.\n",
        "\n",
        "**Notes:**\n",
        "- This notebook is recommended to be run on GPU but can be run on CPU in 10-15 minutes for demo training  \n",
        "- Actual training should be run for many more epochs and done on GPU\n",
        "\n",
        "**References:**\n",
        "- This notebook is inspired by the example in the [fast.ai documentation](https://docs.fast.ai/tutorial.medical_imaging.html).  Check out their tutorial if you'd like to use the fast.ai framework rather than pure PyTorch  \n",
        "- Read the [original paper](https://www.ncbi.nlm.nih.gov/pmc/articles/PMC7165201/) by Filice et al. about this dataset\n",
        "- This example uses a ResNet18 architecture pre-trained on ImageNet.  Read the original [ResNet paper](https://arxiv.org/pdf/1512.03385.pdf)\n"
      ]
    },
    {
      "cell_type": "code",
      "execution_count": 1,
      "metadata": {
        "id": "nZRokJihAd3v",
        "outputId": "474911ef-183e-45d5-815a-c7a04dcd793b",
        "colab": {
          "base_uri": "https://localhost:8080/"
        }
      },
      "outputs": [
        {
          "output_type": "stream",
          "name": "stdout",
          "text": [
            "Cloning into 'AIPI540-Deep-Learning-Applications'...\n",
            "remote: Enumerating objects: 1596, done.\u001b[K\n",
            "remote: Counting objects: 100% (16/16), done.\u001b[K\n",
            "remote: Compressing objects: 100% (12/12), done.\u001b[K\n",
            "remote: Total 1596 (delta 4), reused 13 (delta 4), pack-reused 1580\u001b[K\n",
            "Receiving objects: 100% (1596/1596), 279.68 MiB | 18.41 MiB/s, done.\n",
            "Resolving deltas: 100% (562/562), done.\n",
            "Checking out files: 100% (546/546), done.\n",
            "/content/AIPI540-Deep-Learning-Applications/2_computer_vision/CNNs\n",
            "cnn_basics.ipynb         \u001b[0m\u001b[01;34mdata\u001b[0m/  simple_resnet.ipynb      xrays_example.ipynb\n",
            "cnn_w_tensorboard.ipynb  \u001b[01;34mimg\u001b[0m/   transfer_learning.ipynb\n"
          ]
        }
      ],
      "source": [
        "# Run this cell only if working in Colab\n",
        "# Connects to any needed files from GitHub and Google Drive\n",
        "import os\n",
        "\n",
        "# Remove Colab default sample_data\n",
        "!rm -r ./sample_data\n",
        "\n",
        "# Clone GitHub files to colab workspace\n",
        "repo_name = \"AIPI540-Deep-Learning-Applications\" # Enter repo name\n",
        "git_path = 'https://github.com/AIPI540/AIPI540-Deep-Learning-Applications.git'\n",
        "!git clone \"{git_path}\"\n",
        "\n",
        "# Install dependencies from requirements.txt file\n",
        "#!pip install -r \"{os.path.join(repo_name,'requirements.txt')}\"\n",
        "\n",
        "# Change working directory to location of notebook\n",
        "notebook_dir = '2_computer_vision/CNNs'\n",
        "path_to_notebook = os.path.join(repo_name,notebook_dir)\n",
        "%cd \"{path_to_notebook}\"\n",
        "%ls"
      ]
    },
    {
      "cell_type": "code",
      "execution_count": 3,
      "metadata": {
        "id": "77g7pHdf2V8s",
        "outputId": "2dc86f1c-1174-4c05-c068-782a50128d34",
        "colab": {
          "base_uri": "https://localhost:8080/"
        }
      },
      "outputs": [
        {
          "output_type": "stream",
          "name": "stdout",
          "text": [
            "Looking in indexes: https://pypi.org/simple, https://us-python.pkg.dev/colab-wheels/public/simple/\n",
            "Collecting pydicom\n",
            "  Downloading pydicom-2.3.0-py3-none-any.whl (2.0 MB)\n",
            "\u001b[K     |████████████████████████████████| 2.0 MB 5.3 MB/s \n",
            "\u001b[?25hInstalling collected packages: pydicom\n",
            "Successfully installed pydicom-2.3.0\n",
            "torch:  1.11 ; cuda:  cu113\n"
          ]
        }
      ],
      "source": [
        "!pip install pydicom\n",
        "\n",
        "import os\n",
        "import urllib.request\n",
        "import tarfile\n",
        "import copy\n",
        "import time\n",
        "import numpy as np\n",
        "import pandas as pd\n",
        "from torchsummary import summary\n",
        "from sklearn.model_selection import train_test_split\n",
        "import matplotlib.pyplot as plt\n",
        "import pydicom\n",
        "import cv2\n",
        "from PIL import Image\n",
        "\n",
        "import torch\n",
        "from torchvision import datasets, transforms\n",
        "import torchvision\n",
        "from torch.utils.data import DataLoader, Dataset\n",
        "import torch.nn as nn\n",
        "import torch.nn.functional as F\n",
        "import torch.optim as optim\n",
        "\n",
        "TORCH_VERSION = \".\".join(torch.__version__.split(\".\")[:2])\n",
        "CUDA_VERSION = torch.__version__.split(\"+\")[-1]\n",
        "print(\"torch: \", TORCH_VERSION, \"; cuda: \", CUDA_VERSION)"
      ]
    },
    {
      "cell_type": "markdown",
      "metadata": {
        "id": "T3pirhKNKdzK"
      },
      "source": [
        "## Data preparation\n",
        "### Download data"
      ]
    },
    {
      "cell_type": "code",
      "execution_count": 4,
      "metadata": {
        "id": "JWYTJLNaKdzL"
      },
      "outputs": [],
      "source": [
        "# Download the data\n",
        "if not os.path.exists('./data'):\n",
        "    os.mkdir('./data')\n",
        "if not os.path.exists('data/siim_small'):\n",
        "    url = 'https://s3.amazonaws.com/fast-ai-imagelocal/siim_small.tgz'\n",
        "    urllib.request.urlretrieve(url,filename='data/siim_small.tgz')\n",
        "    file = tarfile.open('data/siim_small.tgz')\n",
        "    file.extractall('data')\n",
        "    file.close()"
      ]
    },
    {
      "cell_type": "markdown",
      "metadata": {
        "id": "UzQSTU1JKdzL"
      },
      "source": [
        "### Convert labels to numeric\n",
        "Since PyTorch cannot work with string labels, we need to set up a mapping dictionary to convert them to integers."
      ]
    },
    {
      "cell_type": "code",
      "execution_count": 5,
      "metadata": {
        "id": "a4-8pur9KdzM"
      },
      "outputs": [],
      "source": [
        "classes = ['No Pneumothorax','Pneumothorax']\n",
        "idx_to_class = {i:j for i,j in enumerate(classes)}\n",
        "class_to_idx = {v:k for k,v in idx_to_class.items()}"
      ]
    },
    {
      "cell_type": "markdown",
      "metadata": {
        "id": "6wEILDVwKdzN"
      },
      "source": [
        "### Create PyTorch Datasets from data and load DataLoaders\n",
        "We'll first need to create a Dataset from our images and labels before we can load it into a DataLoader.  If you examine the structure of your data directory that you just downloaded, you will see that the images are actually labeled by the folder in which they are located: \"No Pneumothorax\" and \"Pneumothorax\".  However, we also have the labels contained in a file \"labels.csv\" and so we are going to use this to demonstrate the creation of a custom Dataset in PyTorch.  Additionally, since our data files are DICOMs not image files, we will not be able to use the out-of-the-box PyTorch `Imagefolder()` to put them in a Dataset."
      ]
    },
    {
      "cell_type": "code",
      "execution_count": 6,
      "metadata": {
        "id": "sK-EqHYTKdzN"
      },
      "outputs": [],
      "source": [
        "class DicomDataset(Dataset):\n",
        "    '''\n",
        "    Custom PyTorch Dataset for image classification\n",
        "    Must contain 3 parts: __init__, __len__ and __getitem__\n",
        "    '''\n",
        "\n",
        "    def __init__(self, csv_path: str, data_dir: str, class_mapper: dict, transform=None):\n",
        "        '''\n",
        "        Args:\n",
        "            csv_path (string): Path to the csv containing the image names and corresponding labels\n",
        "            data_dir (string): Path to directory containing the images\n",
        "            class_mapper (dict): Dictionary mapping string labels to numeric labels\n",
        "            transform (callable,optional): Optional transform to be applied to images\n",
        "        '''\n",
        "        self.labels_df = pd.read_csv(csv_path)\n",
        "        self.transform = transform\n",
        "        self.data_dir = data_dir\n",
        "        self.classes = self.labels_df.iloc[:,1].unique()\n",
        "        self.classmapper = class_mapper\n",
        "\n",
        "    def __len__(self):\n",
        "        '''Returns the number of images in the Dataset'''\n",
        "        return len(self.labels_df)\n",
        "\n",
        "    def __getitem__(self, idx):\n",
        "        '''\n",
        "        Returns the image and corresponding label for an input index\n",
        "        Used by PyTorch to create the iterable DataLoader\n",
        "\n",
        "        Args:\n",
        "            idx (integer): index value for which to get image and label\n",
        "        '''\n",
        "\n",
        "        # Load the image\n",
        "        img_path = os.path.join(self.data_dir,\n",
        "                                self.labels_df.iloc[idx, 0])\n",
        "        \n",
        "        # For a normal image file (jpg,png) use the below\n",
        "        # image = cv2.imread(img_path) # Use this for normal color images\n",
        "        # image = cv2.cvtColor(image, cv2.COLOR_BGR2RGB) # Use this for color images to rearrange channels BGR -> RGB\n",
        "\n",
        "        # Since we are dealing with DICOM files we instead load images using pydicom:\n",
        "        image = pydicom.dcmread(img_path) # load the dicom file\n",
        "        image = image.pixel_array # convert dicom pixel data to numpy array\n",
        "        image = Image.fromarray(image) # convert numpy array to PIL image\n",
        "\n",
        "        # Load the label\n",
        "        label = self.labels_df.iloc[idx, 1]\n",
        "        label = self.classmapper[label]\n",
        "\n",
        "        if self.transform is not None:\n",
        "            image = self.transform(image)\n",
        "            \n",
        "        return image, label"
      ]
    },
    {
      "cell_type": "markdown",
      "metadata": {
        "id": "hFTbVFRZKdzO"
      },
      "source": [
        "We also need to set up our transforms for the dataset, which will be applied to the images when they are loaded into our XrayDataset we created above.\n",
        "\n",
        "The transforms we apply below do the following:  \n",
        "- `Resize(224)`: resize to 224 to be consistent with model pre-trained on ImageNet (we do not want to do random cropping in this case since we want to preserve the lungs in the images)  \n",
        "- `ToTensor()`: convert pixel values to a Tensor and scale to range [0,1]  \n",
        "- `Normalize()`: standardize pixel values to have approx. mean=0 and std=1 (not required but helps model train better).  Note: we generally want to standardize using the mean and std of the distribution of the images in our training set.  However, since in this case we do not know what they are and it requires a bit of work to calculate them, we will just simplify and use 0.5,0.5"
      ]
    },
    {
      "cell_type": "code",
      "execution_count": 7,
      "metadata": {
        "id": "BYKWXouPKdzP"
      },
      "outputs": [],
      "source": [
        "data_transform = transforms.Compose([transforms.Resize(224),\n",
        "                                     transforms.ToTensor(),\n",
        "                                     transforms.Normalize(mean=[0.5],std=[0.5])])"
      ]
    },
    {
      "cell_type": "markdown",
      "metadata": {
        "id": "W9NlBM6VKdzP"
      },
      "source": [
        "Now we are ready to create our Dataset using our custom class, and then use it to load the data into a DataLoader."
      ]
    },
    {
      "cell_type": "code",
      "execution_count": 8,
      "metadata": {
        "id": "IkbQjh5uKdzP"
      },
      "outputs": [],
      "source": [
        "data_dir = 'data/siim_small'\n",
        "\n",
        "\n",
        "# Create Dataset\n",
        "train_dataset = DicomDataset(csv_path=os.path.join(data_dir,'labels.csv'),\n",
        "                            data_dir=data_dir,\n",
        "                            class_mapper=class_to_idx,\n",
        "                            transform = data_transform)\n",
        "\n",
        "# Create DataLoader\n",
        "batch_size = 8\n",
        "train_loader = torch.utils.data.DataLoader(train_dataset, batch_size=batch_size,\n",
        "                                             shuffle=True, num_workers=0)\n",
        "\n",
        "# Store size of training set\n",
        "dataset_size = len(train_dataset)\n",
        "\n",
        "device = torch.device(\"cuda:0\" if torch.cuda.is_available() else \"cpu\")"
      ]
    },
    {
      "cell_type": "code",
      "execution_count": 9,
      "metadata": {
        "id": "w20AFELwKdzP",
        "outputId": "b181e5b8-bbdb-4f8f-9483-835b7433a7f0",
        "colab": {
          "base_uri": "https://localhost:8080/",
          "height": 339
        }
      },
      "outputs": [
        {
          "output_type": "stream",
          "name": "stdout",
          "text": [
            "torch.Size([8, 1, 224, 224])\n"
          ]
        },
        {
          "output_type": "display_data",
          "data": {
            "text/plain": [
              "<Figure size 1080x360 with 8 Axes>"
            ],
            "image/png": "[encoded data removed]"
          },
          "metadata": {}
        }
      ],
      "source": [
        "# Get next batch of training images\n",
        "images, labels = iter(train_loader).next()\n",
        "print(images.shape)\n",
        "images = images.numpy() # Convert images to numpy for display\n",
        "labels = labels.numpy()\n",
        "\n",
        "# plot the images in the batch, along with the corresponding labels\n",
        "fig = plt.figure(figsize=(15, 5))\n",
        "for idx in range(batch_size):\n",
        "    ax = fig.add_subplot(2, batch_size//2, idx+1, xticks=[], yticks=[])\n",
        "    ax.imshow(np.squeeze(images[idx]), cmap='gray')\n",
        "    ax.set_title(idx_to_class[labels[idx]])"
      ]
    },
    {
      "cell_type": "markdown",
      "metadata": {
        "id": "l2PeltC9KdzQ"
      },
      "source": [
        "As we see above, the inputs in a PyTorch DataLoader are of shape [N,C,H,W) where:  \n",
        "- N = batch size  \n",
        "- C = number of channels (1 for grayscale, 3 for RGB color)  \n",
        "- H = image height  \n",
        "- W = image width"
      ]
    },
    {
      "cell_type": "markdown",
      "metadata": {
        "id": "PXBBBmDNKdzQ"
      },
      "source": [
        "### Define our model architecture\n",
        "We will used a pre-trained ResNet18 model in this example.  However, we will need to make a couple changes to it:  \n",
        "- Since we have 2 output classes instead of 1000 (the ImageNet default), we need to replace the final fully connected layer in the network with a new layer that has 2 output units (not 1000)  \n",
        "- Since our images are black/white, we have a single input channel rather than 3.  Therefore we will replace the first layer in the network with a new convolutional layer that has `in_channels = 1`"
      ]
    },
    {
      "cell_type": "code",
      "execution_count": 10,
      "metadata": {
        "id": "yYm7L6fYKdzQ",
        "outputId": "66dd9d59-9442-4fc9-ef7e-c7606e5fa7f0",
        "colab": {
          "base_uri": "https://localhost:8080/",
          "height": 1000,
          "referenced_widgets": [
            "d0d40e1616ff4bf4ae0df7cbc2eff091",
            "753a63452cbf4304a440423d8f3f0410",
            "bca5a2df185d45d990ff4ea15198db72",
            "cddbf2e645ea4ff5bbae090bdb8f5abc",
            "9e014580c54e497bbf786090552750a6",
            "4749c63ea80a44fea5a7c4d5fb9affb3",
            "919f844cf0054992ac45111e03462acf",
            "a4205c4a7cfa48e1b944c6c1e436a8dc",
            "3dfed6b03fb84cc98cc694dd0be8f501",
            "4f1c565799ec483e998cd9406b8a2b76",
            "dba883c861724ccbacb9b4df31f74a77"
          ]
        }
      },
      "outputs": [
        {
          "output_type": "stream",
          "name": "stderr",
          "text": [
            "Downloading: \"https://download.pytorch.org/models/resnet18-f37072fd.pth\" to /root/.cache/torch/hub/checkpoints/resnet18-f37072fd.pth\n"
          ]
        },
        {
          "output_type": "display_data",
          "data": {
            "text/plain": [
              "  0%|          | 0.00/44.7M [00:00<?, ?B/s]"
            ],
            "application/vnd.jupyter.widget-view+json": {
              "version_major": 2,
              "version_minor": 0,
              "model_id": "d0d40e1616ff4bf4ae0df7cbc2eff091"
            }
          },
          "metadata": {}
        },
        {
          "output_type": "stream",
          "name": "stdout",
          "text": [
            "----------------------------------------------------------------\n",
            "        Layer (type)               Output Shape         Param #\n",
            "================================================================\n",
            "            Conv2d-1          [8, 64, 112, 112]           3,136\n",
            "       BatchNorm2d-2          [8, 64, 112, 112]             128\n",
            "              ReLU-3          [8, 64, 112, 112]               0\n",
            "         MaxPool2d-4            [8, 64, 56, 56]               0\n",
            "            Conv2d-5            [8, 64, 56, 56]          36,864\n",
            "       BatchNorm2d-6            [8, 64, 56, 56]             128\n",
            "              ReLU-7            [8, 64, 56, 56]               0\n",
            "            Conv2d-8            [8, 64, 56, 56]          36,864\n",
            "       BatchNorm2d-9            [8, 64, 56, 56]             128\n",
            "             ReLU-10            [8, 64, 56, 56]               0\n",
            "       BasicBlock-11            [8, 64, 56, 56]               0\n",
            "           Conv2d-12            [8, 64, 56, 56]          36,864\n",
            "      BatchNorm2d-13            [8, 64, 56, 56]             128\n",
            "             ReLU-14            [8, 64, 56, 56]               0\n",
            "           Conv2d-15            [8, 64, 56, 56]          36,864\n",
            "      BatchNorm2d-16            [8, 64, 56, 56]             128\n",
            "             ReLU-17            [8, 64, 56, 56]               0\n",
            "       BasicBlock-18            [8, 64, 56, 56]               0\n",
            "           Conv2d-19           [8, 128, 28, 28]          73,728\n",
            "      BatchNorm2d-20           [8, 128, 28, 28]             256\n",
            "             ReLU-21           [8, 128, 28, 28]               0\n",
            "           Conv2d-22           [8, 128, 28, 28]         147,456\n",
            "      BatchNorm2d-23           [8, 128, 28, 28]             256\n",
            "           Conv2d-24           [8, 128, 28, 28]           8,192\n",
            "      BatchNorm2d-25           [8, 128, 28, 28]             256\n",
            "             ReLU-26           [8, 128, 28, 28]               0\n",
            "       BasicBlock-27           [8, 128, 28, 28]               0\n",
            "           Conv2d-28           [8, 128, 28, 28]         147,456\n",
            "      BatchNorm2d-29           [8, 128, 28, 28]             256\n",
            "             ReLU-30           [8, 128, 28, 28]               0\n",
            "           Conv2d-31           [8, 128, 28, 28]         147,456\n",
            "      BatchNorm2d-32           [8, 128, 28, 28]             256\n",
            "             ReLU-33           [8, 128, 28, 28]               0\n",
            "       BasicBlock-34           [8, 128, 28, 28]               0\n",
            "           Conv2d-35           [8, 256, 14, 14]         294,912\n",
            "      BatchNorm2d-36           [8, 256, 14, 14]             512\n",
            "             ReLU-37           [8, 256, 14, 14]               0\n",
            "           Conv2d-38           [8, 256, 14, 14]         589,824\n",
            "      BatchNorm2d-39           [8, 256, 14, 14]             512\n",
            "           Conv2d-40           [8, 256, 14, 14]          32,768\n",
            "      BatchNorm2d-41           [8, 256, 14, 14]             512\n",
            "             ReLU-42           [8, 256, 14, 14]               0\n",
            "       BasicBlock-43           [8, 256, 14, 14]               0\n",
            "           Conv2d-44           [8, 256, 14, 14]         589,824\n",
            "      BatchNorm2d-45           [8, 256, 14, 14]             512\n",
            "             ReLU-46           [8, 256, 14, 14]               0\n",
            "           Conv2d-47           [8, 256, 14, 14]         589,824\n",
            "      BatchNorm2d-48           [8, 256, 14, 14]             512\n",
            "             ReLU-49           [8, 256, 14, 14]               0\n",
            "       BasicBlock-50           [8, 256, 14, 14]               0\n",
            "           Conv2d-51             [8, 512, 7, 7]       1,179,648\n",
            "      BatchNorm2d-52             [8, 512, 7, 7]           1,024\n",
            "             ReLU-53             [8, 512, 7, 7]               0\n",
            "           Conv2d-54             [8, 512, 7, 7]       2,359,296\n",
            "      BatchNorm2d-55             [8, 512, 7, 7]           1,024\n",
            "           Conv2d-56             [8, 512, 7, 7]         131,072\n",
            "      BatchNorm2d-57             [8, 512, 7, 7]           1,024\n",
            "             ReLU-58             [8, 512, 7, 7]               0\n",
            "       BasicBlock-59             [8, 512, 7, 7]               0\n",
            "           Conv2d-60             [8, 512, 7, 7]       2,359,296\n",
            "      BatchNorm2d-61             [8, 512, 7, 7]           1,024\n",
            "             ReLU-62             [8, 512, 7, 7]               0\n",
            "           Conv2d-63             [8, 512, 7, 7]       2,359,296\n",
            "      BatchNorm2d-64             [8, 512, 7, 7]           1,024\n",
            "             ReLU-65             [8, 512, 7, 7]               0\n",
            "       BasicBlock-66             [8, 512, 7, 7]               0\n",
            "AdaptiveAvgPool2d-67             [8, 512, 1, 1]               0\n",
            "           Linear-68                     [8, 2]           1,026\n",
            "================================================================\n",
            "Total params: 11,171,266\n",
            "Trainable params: 4,162\n",
            "Non-trainable params: 11,167,104\n",
            "----------------------------------------------------------------\n",
            "Input size (MB): 1.53\n",
            "Forward/backward pass size (MB): 502.28\n",
            "Params size (MB): 42.61\n",
            "Estimated Total Size (MB): 546.43\n",
            "----------------------------------------------------------------\n"
          ]
        }
      ],
      "source": [
        "# Load a resnet18 pre-trained model\n",
        "model_resnet = torchvision.models.resnet18(pretrained=True)\n",
        "# Shut off autograd for all layers to freeze model so the layer weights are not trained\n",
        "for param in model_resnet.parameters():\n",
        "    param.requires_grad = False\n",
        "    \n",
        "# Replace the resnet input layer to take in grayscale images (1 input channel), since it was originally trained on color (3 input channels)\n",
        "in_channels = 1\n",
        "model_resnet.conv1 = nn.Conv2d(in_channels, 64, kernel_size=7, stride=2, padding=3, bias=False)\n",
        "\n",
        "# Replace the resnet final layer with a new fully connected Linear layer we will train on our task\n",
        "# Number of out units is number of classes (2)\n",
        "num_ftrs = model_resnet.fc.in_features\n",
        "model_resnet.fc = nn.Linear(num_ftrs, 2)\n",
        "\n",
        "# Display a summary of the layers of the model and output shape after each layer\n",
        "summary(model_resnet,(images.shape[1:]),batch_size=batch_size,device=\"cpu\")"
      ]
    },
    {
      "cell_type": "markdown",
      "metadata": {
        "id": "qtMw_CIEKdzQ"
      },
      "source": [
        "### Train the model"
      ]
    },
    {
      "cell_type": "code",
      "execution_count": 11,
      "metadata": {
        "id": "dbGjVXyOKdzQ"
      },
      "outputs": [],
      "source": [
        "def train_model(model,criterion,optimizer,loader,n_epochs,device):\n",
        "    \n",
        "    loss_over_time = [] # to track the loss as the network trains\n",
        "    \n",
        "    model = model.to(device) # Send model to GPU if available\n",
        "    model.train() # Set the model to training mode\n",
        "    \n",
        "    for epoch in range(n_epochs):  # loop over the dataset multiple times\n",
        "        \n",
        "        running_loss = 0.0\n",
        "        running_corrects = 0\n",
        "        \n",
        "        for i, data in enumerate(loader):\n",
        "            # Get the input images and labels, and send to GPU if available\n",
        "            inputs, labels = data[0].to(device), data[1].to(device)\n",
        "\n",
        "            # Zero the weight gradients\n",
        "            optimizer.zero_grad()\n",
        "\n",
        "            # Forward pass to get outputs\n",
        "            outputs = model(inputs)\n",
        "            _, preds = torch.max(outputs, 1)\n",
        "\n",
        "            # Calculate the loss\n",
        "            loss = criterion(outputs, labels)\n",
        "\n",
        "            # Backpropagation to get the gradients with respect to each weight\n",
        "            loss.backward()\n",
        "\n",
        "            # Update the weights\n",
        "            optimizer.step()\n",
        "\n",
        "            # Convert loss into a scalar and add it to running_loss\n",
        "            running_loss += loss.item()\n",
        "\n",
        "            # Convert loss into a scalar and add it to running_loss\n",
        "            running_loss += loss.item() * inputs.size(0)\n",
        "            # Track number of correct predictions\n",
        "            running_corrects += torch.sum(preds == labels.data)\n",
        "            \n",
        "        # Calculate and display average loss and accuracy for the epoch\n",
        "        epoch_loss = running_loss / len(train_dataset)\n",
        "        epoch_acc = running_corrects.double() / len(train_dataset)\n",
        "        print('Loss: {:.4f} Acc: {:.4f}'.format(epoch_loss, epoch_acc))\n",
        "\n",
        "        loss_over_time.append(epoch_loss)\n",
        "\n",
        "    return loss_over_time"
      ]
    },
    {
      "cell_type": "code",
      "execution_count": 12,
      "metadata": {
        "id": "O4_FUwmpKdzR",
        "outputId": "127b8cae-0840-4711-c91e-3a8bbd6e6a75",
        "colab": {
          "base_uri": "https://localhost:8080/",
          "height": 626
        }
      },
      "outputs": [
        {
          "output_type": "stream",
          "name": "stdout",
          "text": [
            "Loss: 0.7152 Acc: 0.6720\n",
            "Loss: 0.7005 Acc: 0.6840\n",
            "Loss: 0.6628 Acc: 0.6920\n",
            "Loss: 0.6550 Acc: 0.7080\n",
            "Loss: 0.6599 Acc: 0.6960\n",
            "Loss: 0.6517 Acc: 0.7160\n",
            "Loss: 0.6121 Acc: 0.7320\n",
            "Loss: 0.6081 Acc: 0.7280\n",
            "Loss: 0.6241 Acc: 0.7200\n",
            "Loss: 0.5984 Acc: 0.7240\n",
            "Loss: 0.6170 Acc: 0.7160\n",
            "Loss: 0.6133 Acc: 0.7240\n",
            "Loss: 0.5699 Acc: 0.7680\n",
            "Loss: 0.6029 Acc: 0.7520\n",
            "Loss: 0.5875 Acc: 0.7400\n",
            "Loss: 0.5786 Acc: 0.7680\n",
            "Loss: 0.5765 Acc: 0.7520\n",
            "Loss: 0.5640 Acc: 0.7760\n",
            "Loss: 0.5645 Acc: 0.7880\n",
            "Loss: 0.5499 Acc: 0.7600\n"
          ]
        },
        {
          "output_type": "display_data",
          "data": {
            "text/plain": [
              "<Figure size 432x288 with 1 Axes>"
            ],
            "image/png": "[encoded data removed]"
          },
          "metadata": {
            "needs_background": "light"
          }
        }
      ],
      "source": [
        "# Set device\n",
        "device = torch.device(\"cuda:0\" if torch.cuda.is_available() else \"cpu\")\n",
        "\n",
        "# Train the model\n",
        "n_epochs = 20\n",
        "criterion = nn.CrossEntropyLoss()\n",
        "optimizer = optim.SGD(model_resnet.parameters(), lr=0.001)\n",
        "device = torch.device(\"cuda\" if torch.cuda.is_available() else \"cpu\")\n",
        "cost_path = train_model(model_resnet,criterion,optimizer,train_loader,n_epochs,device)\n",
        "\n",
        "# Visualize the loss as the network trained\n",
        "plt.plot(cost_path)\n",
        "plt.xlabel('Epoch')\n",
        "plt.ylabel('loss')\n",
        "plt.show()"
      ]
    },
    {
      "cell_type": "markdown",
      "metadata": {
        "id": "AblfiQHvKdzR"
      },
      "source": [
        "### Visualize results"
      ]
    },
    {
      "cell_type": "code",
      "execution_count": 15,
      "metadata": {
        "id": "nS0ZqXz8KdzR",
        "outputId": "255da1f6-579d-4f14-973e-17ba7c1ac75f",
        "colab": {
          "base_uri": "https://localhost:8080/",
          "height": 586
        }
      },
      "outputs": [
        {
          "output_type": "error",
          "ename": "TypeError",
          "evalue": "ignored",
          "traceback": [
            "\u001b[0;31m---------------------------------------------------------------------------\u001b[0m",
            "\u001b[0;31mTypeError\u001b[0m                                 Traceback (most recent call last)",
            "\u001b[0;32m<ipython-input-15-e4f0d0dd7cf5>\u001b[0m in \u001b[0;36m<module>\u001b[0;34m()\u001b[0m\n\u001b[1;32m     27\u001b[0m     \u001b[0;32mreturn\u001b[0m\u001b[0;34m\u001b[0m\u001b[0;34m\u001b[0m\u001b[0m\n\u001b[1;32m     28\u001b[0m \u001b[0;34m\u001b[0m\u001b[0m\n\u001b[0;32m---> 29\u001b[0;31m \u001b[0mvisualize_results\u001b[0m\u001b[0;34m(\u001b[0m\u001b[0mmodel_resnet\u001b[0m\u001b[0;34m,\u001b[0m\u001b[0mtrain_loader\u001b[0m\u001b[0;34m,\u001b[0m\u001b[0mdevice\u001b[0m\u001b[0;34m)\u001b[0m\u001b[0;34m\u001b[0m\u001b[0;34m\u001b[0m\u001b[0m\n\u001b[0m",
            "\u001b[0;32m<ipython-input-15-e4f0d0dd7cf5>\u001b[0m in \u001b[0;36mvisualize_results\u001b[0;34m(model, dataloader, device)\u001b[0m\n\u001b[1;32m     20\u001b[0m         \u001b[0mmean\u001b[0m \u001b[0;34m=\u001b[0m \u001b[0mnp\u001b[0m\u001b[0;34m.\u001b[0m\u001b[0marray\u001b[0m\u001b[0;34m(\u001b[0m\u001b[0;34m[\u001b[0m\u001b[0;36m0.5\u001b[0m\u001b[0;34m]\u001b[0m\u001b[0;34m)\u001b[0m\u001b[0;34m\u001b[0m\u001b[0;34m\u001b[0m\u001b[0m\n\u001b[1;32m     21\u001b[0m         \u001b[0mstd\u001b[0m \u001b[0;34m=\u001b[0m \u001b[0mnp\u001b[0m\u001b[0;34m.\u001b[0m\u001b[0marray\u001b[0m\u001b[0;34m(\u001b[0m\u001b[0;34m[\u001b[0m\u001b[0;36m0.5\u001b[0m\u001b[0;34m]\u001b[0m\u001b[0;34m)\u001b[0m\u001b[0;34m\u001b[0m\u001b[0;34m\u001b[0m\u001b[0m\n\u001b[0;32m---> 22\u001b[0;31m         \u001b[0mimage\u001b[0m \u001b[0;34m=\u001b[0m \u001b[0mstd\u001b[0m \u001b[0;34m*\u001b[0m \u001b[0mimage\u001b[0m \u001b[0;34m+\u001b[0m \u001b[0mmean\u001b[0m\u001b[0;34m\u001b[0m\u001b[0;34m\u001b[0m\u001b[0m\n\u001b[0m\u001b[1;32m     23\u001b[0m         \u001b[0mimage\u001b[0m \u001b[0;34m=\u001b[0m \u001b[0mnp\u001b[0m\u001b[0;34m.\u001b[0m\u001b[0mclip\u001b[0m\u001b[0;34m(\u001b[0m\u001b[0mimage\u001b[0m\u001b[0;34m,\u001b[0m \u001b[0;36m0\u001b[0m\u001b[0;34m,\u001b[0m \u001b[0;36m1\u001b[0m\u001b[0;34m)\u001b[0m\u001b[0;34m\u001b[0m\u001b[0;34m\u001b[0m\u001b[0m\n\u001b[1;32m     24\u001b[0m         \u001b[0max\u001b[0m\u001b[0;34m.\u001b[0m\u001b[0mimshow\u001b[0m\u001b[0;34m(\u001b[0m\u001b[0mimage\u001b[0m\u001b[0;34m,\u001b[0m \u001b[0mcmap\u001b[0m\u001b[0;34m=\u001b[0m\u001b[0;34m'gray'\u001b[0m\u001b[0;34m)\u001b[0m\u001b[0;34m\u001b[0m\u001b[0;34m\u001b[0m\u001b[0m\n",
            "\u001b[0;31mTypeError\u001b[0m: unsupported operand type(s) for *: 'numpy.ndarray' and 'Tensor'"
          ]
        },
        {
          "output_type": "display_data",
          "data": {
            "text/plain": [
              "<Figure size 1080x720 with 1 Axes>"
            ],
            "image/png": "[encoded data removed]"
          },
          "metadata": {}
        }
      ],
      "source": [
        "# Display a batch of predictions\n",
        "def visualize_results(model,dataloader,device):\n",
        "    model = model.to(device) # Send model to GPU if available\n",
        "    with torch.no_grad():\n",
        "        model.eval()\n",
        "        # Get a batch of validation images\n",
        "        images, labels = iter(train_loader).next()\n",
        "        images, labels = images.to(device), labels.to(device)\n",
        "        # Get predictions\n",
        "        _,preds = torch.max(model(images), 1)\n",
        "        preds = np.squeeze(preds.cpu().numpy())\n",
        "        labels = labels.cpu().numpy()\n",
        "\n",
        "    # Plot the images in the batch, along with predicted and true labels\n",
        "    fig = plt.figure(figsize=(15, 10))\n",
        "    for idx in np.arange(len(preds)):\n",
        "        ax = fig.add_subplot(2, len(preds)//2, idx+1, xticks=[], yticks=[])\n",
        "        image = images[idx]\n",
        "        #image = image.permute(1,2,0).cpu().numpy() # Permute axes because im.show() expects dims [W,H,C] and PyTorch/NumPy use [C,W,H]\n",
        "        mean = np.array([0.5])\n",
        "        std = np.array([0.5])\n",
        "        image = std * image + mean\n",
        "        image = np.clip(image, 0, 1)\n",
        "        ax.imshow(image, cmap='gray')\n",
        "        ax.set_title(\"{} ({})\".format(idx_to_class[preds[idx]], idx_to_class[labels[idx]]),\n",
        "                    color=(\"green\" if preds[idx]==labels[idx] else \"red\"))\n",
        "    return\n",
        "\n",
        "visualize_results(model_resnet,train_loader,device)"
      ]
    },
    {
      "cell_type": "code",
      "execution_count": null,
      "metadata": {
        "id": "JexzIvJ8KdzS"
      },
      "outputs": [],
      "source": [
        ""
      ]
    }
  ],
  "metadata": {
    "colab": {
      "collapsed_sections": [],
      "name": "cnn_basics.ipynb",
      "provenance": []
    },
    "kernelspec": {
      "display_name": "Python 3",
      "language": "python",
      "name": "python3"
    },
    "language_info": {
      "codemirror_mode": {
        "name": "ipython",
        "version": 3
      },
      "file_extension": ".py",
      "mimetype": "text/x-python",
      "name": "python",
      "nbconvert_exporter": "python",
      "pygments_lexer": "ipython3",
      "version": "3.9.7"
    },
    "widgets": {
      "application/vnd.jupyter.widget-state+json": {
        "d0d40e1616ff4bf4ae0df7cbc2eff091": {
          "model_module": "@jupyter-widgets/controls",
          "model_name": "HBoxModel",
          "model_module_version": "1.5.0",
          "state": {
            "_dom_classes": [],
            "_model_module": "@jupyter-widgets/controls",
            "_model_module_version": "1.5.0",
            "_model_name": "HBoxModel",
            "_view_count": null,
            "_view_module": "@jupyter-widgets/controls",
            "_view_module_version": "1.5.0",
            "_view_name": "HBoxView",
            "box_style": "",
            "children": [
              "IPY_MODEL_753a63452cbf4304a440423d8f3f0410",
              "IPY_MODEL_bca5a2df185d45d990ff4ea15198db72",
              "IPY_MODEL_cddbf2e645ea4ff5bbae090bdb8f5abc"
            ],
            "layout": "IPY_MODEL_9e014580c54e497bbf786090552750a6"
          }
        },
        "753a63452cbf4304a440423d8f3f0410": {
          "model_module": "@jupyter-widgets/controls",
          "model_name": "HTMLModel",
          "model_module_version": "1.5.0",
          "state": {
            "_dom_classes": [],
            "_model_module": "@jupyter-widgets/controls",
            "_model_module_version": "1.5.0",
            "_model_name": "HTMLModel",
            "_view_count": null,
            "_view_module": "@jupyter-widgets/controls",
            "_view_module_version": "1.5.0",
            "_view_name": "HTMLView",
            "description": "",
            "description_tooltip": null,
            "layout": "IPY_MODEL_4749c63ea80a44fea5a7c4d5fb9affb3",
            "placeholder": "​",
            "style": "IPY_MODEL_919f844cf0054992ac45111e03462acf",
            "value": "100%"
          }
        },
        "bca5a2df185d45d990ff4ea15198db72": {
          "model_module": "@jupyter-widgets/controls",
          "model_name": "FloatProgressModel",
          "model_module_version": "1.5.0",
          "state": {
            "_dom_classes": [],
            "_model_module": "@jupyter-widgets/controls",
            "_model_module_version": "1.5.0",
            "_model_name": "FloatProgressModel",
            "_view_count": null,
            "_view_module": "@jupyter-widgets/controls",
            "_view_module_version": "1.5.0",
            "_view_name": "ProgressView",
            "bar_style": "success",
            "description": "",
            "description_tooltip": null,
            "layout": "IPY_MODEL_a4205c4a7cfa48e1b944c6c1e436a8dc",
            "max": 46830571,
            "min": 0,
            "orientation": "horizontal",
            "style": "IPY_MODEL_3dfed6b03fb84cc98cc694dd0be8f501",
            "value": 46830571
          }
        },
        "cddbf2e645ea4ff5bbae090bdb8f5abc": {
          "model_module": "@jupyter-widgets/controls",
          "model_name": "HTMLModel",
          "model_module_version": "1.5.0",
          "state": {
            "_dom_classes": [],
            "_model_module": "@jupyter-widgets/controls",
            "_model_module_version": "1.5.0",
            "_model_name": "HTMLModel",
            "_view_count": null,
            "_view_module": "@jupyter-widgets/controls",
            "_view_module_version": "1.5.0",
            "_view_name": "HTMLView",
            "description": "",
            "description_tooltip": null,
            "layout": "IPY_MODEL_4f1c565799ec483e998cd9406b8a2b76",
            "placeholder": "​",
            "style": "IPY_MODEL_dba883c861724ccbacb9b4df31f74a77",
            "value": " 44.7M/44.7M [00:01&lt;00:00, 59.1MB/s]"
          }
        },
        "9e014580c54e497bbf786090552750a6": {
          "model_module": "@jupyter-widgets/base",
          "model_name": "LayoutModel",
          "model_module_version": "1.2.0",
          "state": {
            "_model_module": "@jupyter-widgets/base",
            "_model_module_version": "1.2.0",
            "_model_name": "LayoutModel",
            "_view_count": null,
            "_view_module": "@jupyter-widgets/base",
            "_view_module_version": "1.2.0",
            "_view_name": "LayoutView",
            "align_content": null,
            "align_items": null,
            "align_self": null,
            "border": null,
            "bottom": null,
            "display": null,
            "flex": null,
            "flex_flow": null,
            "grid_area": null,
            "grid_auto_columns": null,
            "grid_auto_flow": null,
            "grid_auto_rows": null,
            "grid_column": null,
            "grid_gap": null,
            "grid_row": null,
            "grid_template_areas": null,
            "grid_template_columns": null,
            "grid_template_rows": null,
            "height": null,
            "justify_content": null,
            "justify_items": null,
            "left": null,
            "margin": null,
            "max_height": null,
            "max_width": null,
            "min_height": null,
            "min_width": null,
            "object_fit": null,
            "object_position": null,
            "order": null,
            "overflow": null,
            "overflow_x": null,
            "overflow_y": null,
            "padding": null,
            "right": null,
            "top": null,
            "visibility": null,
            "width": null
          }
        },
        "4749c63ea80a44fea5a7c4d5fb9affb3": {
          "model_module": "@jupyter-widgets/base",
          "model_name": "LayoutModel",
          "model_module_version": "1.2.0",
          "state": {
            "_model_module": "@jupyter-widgets/base",
            "_model_module_version": "1.2.0",
            "_model_name": "LayoutModel",
            "_view_count": null,
            "_view_module": "@jupyter-widgets/base",
            "_view_module_version": "1.2.0",
            "_view_name": "LayoutView",
            "align_content": null,
            "align_items": null,
            "align_self": null,
            "border": null,
            "bottom": null,
            "display": null,
            "flex": null,
            "flex_flow": null,
            "grid_area": null,
            "grid_auto_columns": null,
            "grid_auto_flow": null,
            "grid_auto_rows": null,
            "grid_column": null,
            "grid_gap": null,
            "grid_row": null,
            "grid_template_areas": null,
            "grid_template_columns": null,
            "grid_template_rows": null,
            "height": null,
            "justify_content": null,
            "justify_items": null,
            "left": null,
            "margin": null,
            "max_height": null,
            "max_width": null,
            "min_height": null,
            "min_width": null,
            "object_fit": null,
            "object_position": null,
            "order": null,
            "overflow": null,
            "overflow_x": null,
            "overflow_y": null,
            "padding": null,
            "right": null,
            "top": null,
            "visibility": null,
            "width": null
          }
        },
        "919f844cf0054992ac45111e03462acf": {
          "model_module": "@jupyter-widgets/controls",
          "model_name": "DescriptionStyleModel",
          "model_module_version": "1.5.0",
          "state": {
            "_model_module": "@jupyter-widgets/controls",
            "_model_module_version": "1.5.0",
            "_model_name": "DescriptionStyleModel",
            "_view_count": null,
            "_view_module": "@jupyter-widgets/base",
            "_view_module_version": "1.2.0",
            "_view_name": "StyleView",
            "description_width": ""
          }
        },
        "a4205c4a7cfa48e1b944c6c1e436a8dc": {
          "model_module": "@jupyter-widgets/base",
          "model_name": "LayoutModel",
          "model_module_version": "1.2.0",
          "state": {
            "_model_module": "@jupyter-widgets/base",
            "_model_module_version": "1.2.0",
            "_model_name": "LayoutModel",
            "_view_count": null,
            "_view_module": "@jupyter-widgets/base",
            "_view_module_version": "1.2.0",
            "_view_name": "LayoutView",
            "align_content": null,
            "align_items": null,
            "align_self": null,
            "border": null,
            "bottom": null,
            "display": null,
            "flex": null,
            "flex_flow": null,
            "grid_area": null,
            "grid_auto_columns": null,
            "grid_auto_flow": null,
            "grid_auto_rows": null,
            "grid_column": null,
            "grid_gap": null,
            "grid_row": null,
            "grid_template_areas": null,
            "grid_template_columns": null,
            "grid_template_rows": null,
            "height": null,
            "justify_content": null,
            "justify_items": null,
            "left": null,
            "margin": null,
            "max_height": null,
            "max_width": null,
            "min_height": null,
            "min_width": null,
            "object_fit": null,
            "object_position": null,
            "order": null,
            "overflow": null,
            "overflow_x": null,
            "overflow_y": null,
            "padding": null,
            "right": null,
            "top": null,
            "visibility": null,
            "width": null
          }
        },
        "3dfed6b03fb84cc98cc694dd0be8f501": {
          "model_module": "@jupyter-widgets/controls",
          "model_name": "ProgressStyleModel",
          "model_module_version": "1.5.0",
          "state": {
            "_model_module": "@jupyter-widgets/controls",
            "_model_module_version": "1.5.0",
            "_model_name": "ProgressStyleModel",
            "_view_count": null,
            "_view_module": "@jupyter-widgets/base",
            "_view_module_version": "1.2.0",
            "_view_name": "StyleView",
            "bar_color": null,
            "description_width": ""
          }
        },
        "4f1c565799ec483e998cd9406b8a2b76": {
          "model_module": "@jupyter-widgets/base",
          "model_name": "LayoutModel",
          "model_module_version": "1.2.0",
          "state": {
            "_model_module": "@jupyter-widgets/base",
            "_model_module_version": "1.2.0",
            "_model_name": "LayoutModel",
            "_view_count": null,
            "_view_module": "@jupyter-widgets/base",
            "_view_module_version": "1.2.0",
            "_view_name": "LayoutView",
            "align_content": null,
            "align_items": null,
            "align_self": null,
            "border": null,
            "bottom": null,
            "display": null,
            "flex": null,
            "flex_flow": null,
            "grid_area": null,
            "grid_auto_columns": null,
            "grid_auto_flow": null,
            "grid_auto_rows": null,
            "grid_column": null,
            "grid_gap": null,
            "grid_row": null,
            "grid_template_areas": null,
            "grid_template_columns": null,
            "grid_template_rows": null,
            "height": null,
            "justify_content": null,
            "justify_items": null,
            "left": null,
            "margin": null,
            "max_height": null,
            "max_width": null,
            "min_height": null,
            "min_width": null,
            "object_fit": null,
            "object_position": null,
            "order": null,
            "overflow": null,
            "overflow_x": null,
            "overflow_y": null,
            "padding": null,
            "right": null,
            "top": null,
            "visibility": null,
            "width": null
          }
        },
        "dba883c861724ccbacb9b4df31f74a77": {
          "model_module": "@jupyter-widgets/controls",
          "model_name": "DescriptionStyleModel",
          "model_module_version": "1.5.0",
          "state": {
            "_model_module": "@jupyter-widgets/controls",
            "_model_module_version": "1.5.0",
            "_model_name": "DescriptionStyleModel",
            "_view_count": null,
            "_view_module": "@jupyter-widgets/base",
            "_view_module_version": "1.2.0",
            "_view_name": "StyleView",
            "description_width": ""
          }
        }
      }
    }
  },
  "nbformat": 4,
  "nbformat_minor": 0
}