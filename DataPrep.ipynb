{
  "cells": [
    {
      "cell_type": "markdown",
      "metadata": {
        "id": "h2OkAhQG2V8n"
      },
      "source": [
        "<a href='https://ai.meng.duke.edu'> = <img align=\"left\" style=\"padding-top:10px;\" src=https://storage.googleapis.com/aipi_datasets/Duke-AIPI-Logo.png>"
      ]
    },
    {
      "cell_type": "markdown",
      "metadata": {
        "id": "Hd6d5Y8L2V85"
      },
      "source": [
        "# Data Preparation and Model Training"
      ]
    },
    {
      "cell_type": "markdown",
      "source": [
        "## Step 1: Link Notebook to GitHub and Google Drive"
      ],
      "metadata": {
        "id": "N3fJN9KGJ7UF"
      }
    },
    {
      "cell_type": "code",
      "execution_count": 1,
      "metadata": {
        "id": "nZRokJihAd3v",
        "colab": {
          "base_uri": "https://localhost:8080/"
        },
        "outputId": "330b77ce-d50e-4f10-923a-2fc7c96f4e8c"
      },
      "outputs": [
        {
          "output_type": "stream",
          "name": "stdout",
          "text": [
            "Cloning into 'BrainAgingComputerVision'...\n",
            "remote: Enumerating objects: 74, done.\u001b[K\n",
            "remote: Counting objects: 100% (74/74), done.\u001b[K\n",
            "remote: Compressing objects: 100% (61/61), done.\u001b[K\n",
            "remote: Total 74 (delta 31), reused 36 (delta 9), pack-reused 0\u001b[K\n",
            "Unpacking objects: 100% (74/74), done.\n",
            "Mounted at /content/gdrive\n"
          ]
        }
      ],
      "source": [
        "import os\n",
        "from google.colab import drive\n",
        "\n",
        "# Remove Colab default sample_data\n",
        "!rm -r ./sample_data\n",
        "\n",
        "# Clone GitHub files to colab workspace\n",
        "repo_name = \"BrainAgingComputerVision\" # Enter repo name\n",
        "git_path = 'https://github.com/MRWilliamsGit/BrainAgingComputerVision.git'\n",
        "!git clone \"{git_path}\"\n",
        "\n",
        "#!pip install -r \"{os.path.join(repo_name,'requirements.txt')}\"\n",
        "\n",
        "# Connect to Google Drive\n",
        "drive.mount('/content/gdrive')\n",
        "#%cd gdrive/MyDrive/School"
      ]
    },
    {
      "cell_type": "markdown",
      "source": [
        "## Step 2: Convert and Sort Images"
      ],
      "metadata": {
        "id": "z1dbPL4iBcZp"
      }
    },
    {
      "cell_type": "code",
      "source": [
        "#import files\n",
        "!unzip '/content/gdrive/My Drive/School/image_data.zip' > /dev/null"
      ],
      "metadata": {
        "id": "rzuBX78vuRRj"
      },
      "execution_count": 2,
      "outputs": []
    },
    {
      "cell_type": "code",
      "source": [
        "import pandas as pd\n",
        "\n",
        "#pull up image metadata\n",
        "filein = '/content/gdrive/My Drive/School/cn_age_df.csv'\n",
        "data = pd.read_csv(filein)\n",
        "#data.head()\n"
      ],
      "metadata": {
        "id": "Fw8rTvdCv-n9"
      },
      "execution_count": 3,
      "outputs": []
    },
    {
      "cell_type": "code",
      "source": [
        "#establish the file structure required for the dataloaders\n",
        "import os\n",
        "import shutil\n",
        "\n",
        "folders = ['50','60','70','80','90']\n",
        "os.mkdir(\"/content/data/\")\n",
        "\n",
        "for i in folders:\n",
        "  base = '/content/data'\n",
        "  path = os.path.join(base, i,)\n",
        "  os.mkdir(path)"
      ],
      "metadata": {
        "id": "1vxkaHYi2-TY"
      },
      "execution_count": 4,
      "outputs": []
    },
    {
      "cell_type": "code",
      "source": [
        "#pull out image slice, convert to jpeg, then move to class (age) folder\n",
        "#note: conversion to jpeg lets us use the datasets.Imageloader\n",
        "#note: images will be converted to tensors during transform since loaders can't process images\n",
        "\n",
        "!pip install pillow\n",
        "import numpy as np\n",
        "from PIL import Image\n",
        "from matplotlib import pyplot as plt\n",
        "\n",
        "#this is the slice picked from the 3D image\n",
        "imslice = 50\n",
        "\n",
        "for i in range(len(data)):\n",
        "\n",
        "  #first load the image, pull out a slice and convert it to jpeg\n",
        "  imgpl1 = \"/content/image_data/\" + data.loc[i][0] + '.npy'\n",
        "  imgjpl = \"/content/image_data/\" + data.loc[i][0] + '.jpg'\n",
        "  image3D = np.load(imgpl1)\n",
        "  im = Image.fromarray((image3D[imslice] * 255).astype(np.uint8))\n",
        "  im.save(imgjpl)\n",
        "\n",
        "  #then loop through to determine which folder it belongs to\n",
        "  for f in folders:\n",
        "    if data.loc[i][5] < int(f):\n",
        "      #if less than the folder name, move to the folder before f\n",
        "      imgpl2 = \"/content/data/\" + str(int(f)-10) + \"/\" + data.loc[i][0] + '.jpg'\n",
        "      os.rename(imgjpl, imgpl2)\n",
        "      break\n",
        "    elif data.loc[i][5] >= 90:\n",
        "      imgpl2 = \"/content/data/90/\" + data.loc[i][0] + '.jpg'\n",
        "      os.rename(imgjpl, imgpl2)\n",
        "      break"
      ],
      "metadata": {
        "id": "VPXWk7fl67mV",
        "outputId": "18c02064-b3d6-497c-f420-0bcf180add6c",
        "colab": {
          "base_uri": "https://localhost:8080/"
        }
      },
      "execution_count": 5,
      "outputs": [
        {
          "output_type": "stream",
          "name": "stdout",
          "text": [
            "Looking in indexes: https://pypi.org/simple, https://us-python.pkg.dev/colab-wheels/public/simple/\n",
            "Requirement already satisfied: pillow in /usr/local/lib/python3.7/dist-packages (7.1.2)\n"
          ]
        }
      ]
    },
    {
      "cell_type": "markdown",
      "source": [
        "## Step 3: Load into DataLoaders"
      ],
      "metadata": {
        "id": "_1kUKVamYLS8"
      }
    },
    {
      "cell_type": "code",
      "source": [
        "#this loads full dataset into dataloader\n",
        "import torch\n",
        "from torchvision import datasets, transforms\n",
        "\n",
        "#get dataset\n",
        "dataset = datasets.ImageFolder('/content/data/')\n",
        "\n",
        "#define transformation\n",
        "data_transform = transforms.Compose([ transforms.Resize((224, 224)),\n",
        "                                         transforms.Grayscale(),\n",
        "                                         transforms.ToTensor(),\n",
        "                                         transforms.Normalize(mean=[0.5],std=[0.5])])\n",
        "\n",
        "#get dataset with transformation\n",
        "dataset = datasets.ImageFolder('/content/data/', transform=data_transform)\n",
        "\n",
        "#add to loader\n",
        "batch_size = 4\n",
        "loader = torch.utils.data.DataLoader(dataset, batch_size=batch_size,\n",
        "                                             shuffle=True, num_workers=2)\n"
      ],
      "metadata": {
        "id": "3hJXV9IWRUyO"
      },
      "execution_count": 6,
      "outputs": []
    },
    {
      "cell_type": "code",
      "source": [
        "device = torch.device(\"cuda:0\" if torch.cuda.is_available() else \"cpu\")"
      ],
      "metadata": {
        "id": "37tD-xvmKGGJ"
      },
      "execution_count": 7,
      "outputs": []
    },
    {
      "cell_type": "code",
      "source": [
        "#set up class names for visualizations and checking\n",
        "idx_to_class = {i:j for i,j in enumerate(folders)}\n",
        "class_to_idx = {v:k for k,v in idx_to_class.items()}"
      ],
      "metadata": {
        "id": "9sMXNjtoXaWp"
      },
      "execution_count": 9,
      "outputs": []
    },
    {
      "cell_type": "code",
      "source": [
        "# Visualize a batch of images\n",
        "images, labels = iter(loader).next()\n",
        "print(images.shape)\n",
        "images = images.numpy() # Convert images to numpy for display\n",
        "labels = labels.numpy()\n",
        "\n",
        "# plot the images in the batch, along with the corresponding labels\n",
        "# note that images are greyscale, it's just the plot aesthetic that makes them colorful\n",
        "fig = plt.figure(figsize=(15, 5))\n",
        "for idx in range(batch_size):\n",
        "    ax = fig.add_subplot(2, batch_size//2, idx+1, xticks=[], yticks=[])\n",
        "    ax.imshow(np.squeeze(images[idx]))\n",
        "    ax.set_title(idx_to_class[labels[idx]])"
      ],
      "metadata": {
        "id": "YHAiyYxIKGtb",
        "outputId": "69607069-dd65-4f67-c457-8d07e362c59d",
        "colab": {
          "base_uri": "https://localhost:8080/",
          "height": 339
        }
      },
      "execution_count": 11,
      "outputs": [
        {
          "output_type": "stream",
          "name": "stdout",
          "text": [
            "torch.Size([4, 1, 224, 224])\n"
          ]
        },
        {
          "output_type": "display_data",
          "data": {
            "text/plain": [
              "<Figure size 1080x360 with 4 Axes>"
            ],
            "image/png": "[encoded data removed]"
          },
          "metadata": {}
        }
      ]
    },
    {
      "cell_type": "code",
      "source": [
        "#training/test split example - not yet working\n",
        "import torch\n",
        "from torchvision.datasets import ImageFolder\n",
        "from torch.utils.data import Subset\n",
        "from sklearn.model_selection import train_test_split\n",
        "from torchvision.transforms import Compose, ToTensor, Resize\n",
        "from torch.utils.data import DataLoader\n",
        "\n",
        "def train_val_dataset(dataset, val_split=0.2):\n",
        "    train_idx, val_idx = train_test_split(list(range(len(dataset))), test_size=val_split)\n",
        "    datasets = {}\n",
        "    datasets['train'] = Subset(dataset, train_idx)\n",
        "    datasets['val'] = Subset(dataset, val_idx)\n",
        "    return datasets\n",
        "\n",
        "dataset = ImageFolder('/content/data/', transform=Compose([Resize((224,224)),ToTensor()]))\n",
        "#print(len(dataset))\n",
        "datasets = train_val_dataset(dataset)\n",
        "#print(len(datasets['train']))\n",
        "#print(len(datasets['val']))\n",
        "#The original dataset is available in the Subset class\n",
        "#print(datasets['train'].dataset)\n",
        "\n",
        "dataloaders = {x:DataLoader(datasets[x],32, shuffle=True, num_workers=4) for x in ['train','val']}\n",
        "x,y = next(iter(dataloaders['train']))\n",
        "print(x.shape, y.shape)\n",
        "\n",
        "#https://pyimagesearch.com/2021/10/04/image-data-loaders-in-pytorch/"
      ],
      "metadata": {
        "id": "8lVDfb444wuP"
      },
      "execution_count": null,
      "outputs": []
    },
    {
      "cell_type": "markdown",
      "source": [
        "## Step 4: Define and Train Model"
      ],
      "metadata": {
        "id": "gCF_CxtqYpZd"
      }
    },
    {
      "cell_type": "code",
      "source": [
        "import torch\n",
        "from torchvision import datasets, transforms\n",
        "import torchvision\n",
        "from torch.utils.data import DataLoader, Dataset\n",
        "import torch.nn as nn\n",
        "import torch.nn.functional as F\n",
        "import torch.optim as optim\n",
        "from torchsummary import summary\n",
        "\n",
        "# Load a resnet18 pre-trained model\n",
        "model_resnet = torchvision.models.resnet18(pretrained=True)\n",
        "\n",
        "# Shut off autograd for all layers to freeze model so the layer weights are not trained\n",
        "for param in model_resnet.parameters():\n",
        "    param.requires_grad = False\n",
        "    \n",
        "# Replace the resnet input layer to take in grayscale images (1 input channel), since it was originally trained on color (3 input channels)\n",
        "in_channels = 1\n",
        "model_resnet.conv1 = nn.Conv2d(in_channels, 64, kernel_size=7, stride=2, padding=3, bias=False)\n",
        "\n",
        "# Replace the resnet final layer with a new fully connected Linear layer we will train on our task\n",
        "# Number of out units is number of classes (5)\n",
        "num_ftrs = model_resnet.fc.in_features\n",
        "model_resnet.fc = nn.Linear(num_ftrs, 5)\n",
        "\n",
        "# Display a summary of the layers of the model and output shape after each layer\n",
        "summary(model_resnet,(images.shape[1:]),batch_size=batch_size,device=\"cpu\")"
      ],
      "metadata": {
        "id": "HKphwFI-Yr3F",
        "outputId": "6cde0746-282b-4211-f743-8bda60a4de30",
        "colab": {
          "base_uri": "https://localhost:8080/"
        }
      },
      "execution_count": 14,
      "outputs": [
        {
          "output_type": "stream",
          "name": "stdout",
          "text": [
            "----------------------------------------------------------------\n",
            "        Layer (type)               Output Shape         Param #\n",
            "================================================================\n",
            "            Conv2d-1          [4, 64, 112, 112]           3,136\n",
            "       BatchNorm2d-2          [4, 64, 112, 112]             128\n",
            "              ReLU-3          [4, 64, 112, 112]               0\n",
            "         MaxPool2d-4            [4, 64, 56, 56]               0\n",
            "            Conv2d-5            [4, 64, 56, 56]          36,864\n",
            "       BatchNorm2d-6            [4, 64, 56, 56]             128\n",
            "              ReLU-7            [4, 64, 56, 56]               0\n",
            "            Conv2d-8            [4, 64, 56, 56]          36,864\n",
            "       BatchNorm2d-9            [4, 64, 56, 56]             128\n",
            "             ReLU-10            [4, 64, 56, 56]               0\n",
            "       BasicBlock-11            [4, 64, 56, 56]               0\n",
            "           Conv2d-12            [4, 64, 56, 56]          36,864\n",
            "      BatchNorm2d-13            [4, 64, 56, 56]             128\n",
            "             ReLU-14            [4, 64, 56, 56]               0\n",
            "           Conv2d-15            [4, 64, 56, 56]          36,864\n",
            "      BatchNorm2d-16            [4, 64, 56, 56]             128\n",
            "             ReLU-17            [4, 64, 56, 56]               0\n",
            "       BasicBlock-18            [4, 64, 56, 56]               0\n",
            "           Conv2d-19           [4, 128, 28, 28]          73,728\n",
            "      BatchNorm2d-20           [4, 128, 28, 28]             256\n",
            "             ReLU-21           [4, 128, 28, 28]               0\n",
            "           Conv2d-22           [4, 128, 28, 28]         147,456\n",
            "      BatchNorm2d-23           [4, 128, 28, 28]             256\n",
            "           Conv2d-24           [4, 128, 28, 28]           8,192\n",
            "      BatchNorm2d-25           [4, 128, 28, 28]             256\n",
            "             ReLU-26           [4, 128, 28, 28]               0\n",
            "       BasicBlock-27           [4, 128, 28, 28]               0\n",
            "           Conv2d-28           [4, 128, 28, 28]         147,456\n",
            "      BatchNorm2d-29           [4, 128, 28, 28]             256\n",
            "             ReLU-30           [4, 128, 28, 28]               0\n",
            "           Conv2d-31           [4, 128, 28, 28]         147,456\n",
            "      BatchNorm2d-32           [4, 128, 28, 28]             256\n",
            "             ReLU-33           [4, 128, 28, 28]               0\n",
            "       BasicBlock-34           [4, 128, 28, 28]               0\n",
            "           Conv2d-35           [4, 256, 14, 14]         294,912\n",
            "      BatchNorm2d-36           [4, 256, 14, 14]             512\n",
            "             ReLU-37           [4, 256, 14, 14]               0\n",
            "           Conv2d-38           [4, 256, 14, 14]         589,824\n",
            "      BatchNorm2d-39           [4, 256, 14, 14]             512\n",
            "           Conv2d-40           [4, 256, 14, 14]          32,768\n",
            "      BatchNorm2d-41           [4, 256, 14, 14]             512\n",
            "             ReLU-42           [4, 256, 14, 14]               0\n",
            "       BasicBlock-43           [4, 256, 14, 14]               0\n",
            "           Conv2d-44           [4, 256, 14, 14]         589,824\n",
            "      BatchNorm2d-45           [4, 256, 14, 14]             512\n",
            "             ReLU-46           [4, 256, 14, 14]               0\n",
            "           Conv2d-47           [4, 256, 14, 14]         589,824\n",
            "      BatchNorm2d-48           [4, 256, 14, 14]             512\n",
            "             ReLU-49           [4, 256, 14, 14]               0\n",
            "       BasicBlock-50           [4, 256, 14, 14]               0\n",
            "           Conv2d-51             [4, 512, 7, 7]       1,179,648\n",
            "      BatchNorm2d-52             [4, 512, 7, 7]           1,024\n",
            "             ReLU-53             [4, 512, 7, 7]               0\n",
            "           Conv2d-54             [4, 512, 7, 7]       2,359,296\n",
            "      BatchNorm2d-55             [4, 512, 7, 7]           1,024\n",
            "           Conv2d-56             [4, 512, 7, 7]         131,072\n",
            "      BatchNorm2d-57             [4, 512, 7, 7]           1,024\n",
            "             ReLU-58             [4, 512, 7, 7]               0\n",
            "       BasicBlock-59             [4, 512, 7, 7]               0\n",
            "           Conv2d-60             [4, 512, 7, 7]       2,359,296\n",
            "      BatchNorm2d-61             [4, 512, 7, 7]           1,024\n",
            "             ReLU-62             [4, 512, 7, 7]               0\n",
            "           Conv2d-63             [4, 512, 7, 7]       2,359,296\n",
            "      BatchNorm2d-64             [4, 512, 7, 7]           1,024\n",
            "             ReLU-65             [4, 512, 7, 7]               0\n",
            "       BasicBlock-66             [4, 512, 7, 7]               0\n",
            "AdaptiveAvgPool2d-67             [4, 512, 1, 1]               0\n",
            "           Linear-68                     [4, 5]           2,565\n",
            "================================================================\n",
            "Total params: 11,172,805\n",
            "Trainable params: 5,701\n",
            "Non-trainable params: 11,167,104\n",
            "----------------------------------------------------------------\n",
            "Input size (MB): 0.77\n",
            "Forward/backward pass size (MB): 251.14\n",
            "Params size (MB): 42.62\n",
            "Estimated Total Size (MB): 294.53\n",
            "----------------------------------------------------------------\n"
          ]
        }
      ]
    },
    {
      "cell_type": "code",
      "source": [
        "#train function copied from example\n",
        "def train_model(model,criterion,optimizer,loader,n_epochs,device):\n",
        "    \n",
        "    loss_over_time = [] # to track the loss as the network trains\n",
        "    \n",
        "    model = model.to(device) # Send model to GPU if available\n",
        "    model.train() # Set the model to training mode\n",
        "    \n",
        "    for epoch in range(n_epochs):  # loop over the dataset multiple times\n",
        "        \n",
        "        running_loss = 0.0\n",
        "        running_corrects = 0\n",
        "        \n",
        "        for i, data in enumerate(loader):\n",
        "            # Get the input images and labels, and send to GPU if available\n",
        "            inputs, labels = data[0].to(device), data[1].to(device)\n",
        "\n",
        "            # Zero the weight gradients\n",
        "            optimizer.zero_grad()\n",
        "\n",
        "            # Forward pass to get outputs\n",
        "            outputs = model(inputs)\n",
        "            _, preds = torch.max(outputs, 1)\n",
        "\n",
        "            # Calculate the loss\n",
        "            loss = criterion(outputs, labels)\n",
        "\n",
        "            # Backpropagation to get the gradients with respect to each weight\n",
        "            loss.backward()\n",
        "\n",
        "            # Update the weights\n",
        "            optimizer.step()\n",
        "\n",
        "            # Convert loss into a scalar and add it to running_loss\n",
        "            running_loss += loss.item()\n",
        "\n",
        "            # Convert loss into a scalar and add it to running_loss\n",
        "            running_loss += loss.item() * inputs.size(0)\n",
        "            # Track number of correct predictions\n",
        "            running_corrects += torch.sum(preds == labels.data)\n",
        "            \n",
        "        # Calculate and display average loss and accuracy for the epoch\n",
        "        epoch_loss = running_loss / len(dataset)\n",
        "        epoch_acc = running_corrects.double() / len(dataset)\n",
        "        print('Loss: {:.4f} Acc: {:.4f}'.format(epoch_loss, epoch_acc))\n",
        "\n",
        "        loss_over_time.append(epoch_loss)\n",
        "\n",
        "    return loss_over_time"
      ],
      "metadata": {
        "id": "iQchufH2Z0At"
      },
      "execution_count": 18,
      "outputs": []
    },
    {
      "cell_type": "code",
      "source": [
        "# Set device\n",
        "device = torch.device(\"cuda:0\" if torch.cuda.is_available() else \"cpu\")\n",
        "\n",
        "# Train the model\n",
        "n_epochs = 20\n",
        "criterion = nn.CrossEntropyLoss()\n",
        "optimizer = optim.SGD(model_resnet.parameters(), lr=0.001)\n",
        "device = torch.device(\"cuda\" if torch.cuda.is_available() else \"cpu\")\n",
        "cost_path = train_model(model_resnet,criterion,optimizer,loader,n_epochs,device)\n",
        "\n",
        "# Visualize the loss as the network trained\n",
        "plt.plot(cost_path)\n",
        "plt.xlabel('Epoch')\n",
        "plt.ylabel('loss')\n",
        "plt.show()"
      ],
      "metadata": {
        "id": "GN_WAP1FZ4pa",
        "outputId": "9052e23e-9e73-407a-ab41-b7b34253187b",
        "colab": {
          "base_uri": "https://localhost:8080/",
          "height": 626
        }
      },
      "execution_count": 19,
      "outputs": [
        {
          "output_type": "stream",
          "name": "stdout",
          "text": [
            "Loss: 1.3288 Acc: 0.5185\n",
            "Loss: 1.3135 Acc: 0.5272\n",
            "Loss: 1.2768 Acc: 0.5422\n",
            "Loss: 1.2666 Acc: 0.5541\n",
            "Loss: 1.2491 Acc: 0.5596\n",
            "Loss: 1.2256 Acc: 0.5754\n",
            "Loss: 1.2243 Acc: 0.5738\n",
            "Loss: 1.2018 Acc: 0.5762\n",
            "Loss: 1.1889 Acc: 0.5793\n",
            "Loss: 1.1956 Acc: 0.5785\n",
            "Loss: 1.1780 Acc: 0.5983\n",
            "Loss: 1.1979 Acc: 0.5754\n",
            "Loss: 1.1764 Acc: 0.5777\n",
            "Loss: 1.1540 Acc: 0.6188\n",
            "Loss: 1.1648 Acc: 0.6069\n",
            "Loss: 1.1520 Acc: 0.5927\n",
            "Loss: 1.1365 Acc: 0.6180\n",
            "Loss: 1.1566 Acc: 0.5919\n",
            "Loss: 1.1180 Acc: 0.6259\n",
            "Loss: 1.1024 Acc: 0.6259\n"
          ]
        },
        {
          "output_type": "display_data",
          "data": {
            "text/plain": [
              "<Figure size 432x288 with 1 Axes>"
            ],
            "image/png": "[encoded data removed]"
          },
          "metadata": {
            "needs_background": "light"
          }
        }
      ]
    },
    {
      "cell_type": "code",
      "source": [
        "# Display a batch of predictions\n",
        "# Note that this will be good since we didn't separate out a test set yet\n",
        "\n",
        "def visualize_results(model,dataloader,device):\n",
        "    model = model.to(device) # Send model to GPU if available\n",
        "    with torch.no_grad():\n",
        "        model.eval()\n",
        "        # Get a batch of validation images\n",
        "        images, labels = iter(loader).next()\n",
        "        images, labels = images.to(device), labels.to(device)\n",
        "        # Get predictions\n",
        "        _,preds = torch.max(model(images), 1)\n",
        "        preds = np.squeeze(preds.cpu().numpy())\n",
        "        labels = labels.cpu().numpy()\n",
        "\n",
        "    # Plot the images in the batch, along with predicted and true labels\n",
        "    fig = plt.figure(figsize=(15, 10))\n",
        "    for idx in np.arange(len(preds)):\n",
        "        ax = fig.add_subplot(2, len(preds)//2, idx+1, xticks=[], yticks=[])\n",
        "        image = images[idx]\n",
        "        #image = image.permute(1,2,0).cpu().numpy() # Permute axes because im.show() expects dims [W,H,C] and PyTorch/NumPy use [C,W,H]\n",
        "        mean = np.array([0.5])\n",
        "        std = np.array([0.5])\n",
        "        image = std * image + mean\n",
        "        image = np.clip(image, 0, 1)\n",
        "        ax.imshow(image, cmap='gray')\n",
        "        ax.set_title(\"{} ({})\".format(idx_to_class[preds[idx]], idx_to_class[labels[idx]]),\n",
        "                    color=(\"green\" if preds[idx]==labels[idx] else \"red\"))\n",
        "    return\n",
        "\n",
        "visualize_results(model_resnet,loader,device)"
      ],
      "metadata": {
        "id": "L8EAIwt8aANl",
        "outputId": "72683844-b4dd-46ac-8849-f8960467dc6f",
        "colab": {
          "base_uri": "https://localhost:8080/",
          "height": 586
        }
      },
      "execution_count": 20,
      "outputs": [
        {
          "output_type": "error",
          "ename": "TypeError",
          "evalue": "ignored",
          "traceback": [
            "\u001b[0;31m---------------------------------------------------------------------------\u001b[0m",
            "\u001b[0;31mTypeError\u001b[0m                                 Traceback (most recent call last)",
            "\u001b[0;32m<ipython-input-20-12b8ee5d7658>\u001b[0m in \u001b[0;36m<module>\u001b[0;34m()\u001b[0m\n\u001b[1;32m     29\u001b[0m     \u001b[0;32mreturn\u001b[0m\u001b[0;34m\u001b[0m\u001b[0;34m\u001b[0m\u001b[0m\n\u001b[1;32m     30\u001b[0m \u001b[0;34m\u001b[0m\u001b[0m\n\u001b[0;32m---> 31\u001b[0;31m \u001b[0mvisualize_results\u001b[0m\u001b[0;34m(\u001b[0m\u001b[0mmodel_resnet\u001b[0m\u001b[0;34m,\u001b[0m\u001b[0mloader\u001b[0m\u001b[0;34m,\u001b[0m\u001b[0mdevice\u001b[0m\u001b[0;34m)\u001b[0m\u001b[0;34m\u001b[0m\u001b[0;34m\u001b[0m\u001b[0m\n\u001b[0m",
            "\u001b[0;32m<ipython-input-20-12b8ee5d7658>\u001b[0m in \u001b[0;36mvisualize_results\u001b[0;34m(model, dataloader, device)\u001b[0m\n\u001b[1;32m     22\u001b[0m         \u001b[0mmean\u001b[0m \u001b[0;34m=\u001b[0m \u001b[0mnp\u001b[0m\u001b[0;34m.\u001b[0m\u001b[0marray\u001b[0m\u001b[0;34m(\u001b[0m\u001b[0;34m[\u001b[0m\u001b[0;36m0.5\u001b[0m\u001b[0;34m]\u001b[0m\u001b[0;34m)\u001b[0m\u001b[0;34m\u001b[0m\u001b[0;34m\u001b[0m\u001b[0m\n\u001b[1;32m     23\u001b[0m         \u001b[0mstd\u001b[0m \u001b[0;34m=\u001b[0m \u001b[0mnp\u001b[0m\u001b[0;34m.\u001b[0m\u001b[0marray\u001b[0m\u001b[0;34m(\u001b[0m\u001b[0;34m[\u001b[0m\u001b[0;36m0.5\u001b[0m\u001b[0;34m]\u001b[0m\u001b[0;34m)\u001b[0m\u001b[0;34m\u001b[0m\u001b[0;34m\u001b[0m\u001b[0m\n\u001b[0;32m---> 24\u001b[0;31m         \u001b[0mimage\u001b[0m \u001b[0;34m=\u001b[0m \u001b[0mstd\u001b[0m \u001b[0;34m*\u001b[0m \u001b[0mimage\u001b[0m \u001b[0;34m+\u001b[0m \u001b[0mmean\u001b[0m\u001b[0;34m\u001b[0m\u001b[0;34m\u001b[0m\u001b[0m\n\u001b[0m\u001b[1;32m     25\u001b[0m         \u001b[0mimage\u001b[0m \u001b[0;34m=\u001b[0m \u001b[0mnp\u001b[0m\u001b[0;34m.\u001b[0m\u001b[0mclip\u001b[0m\u001b[0;34m(\u001b[0m\u001b[0mimage\u001b[0m\u001b[0;34m,\u001b[0m \u001b[0;36m0\u001b[0m\u001b[0;34m,\u001b[0m \u001b[0;36m1\u001b[0m\u001b[0;34m)\u001b[0m\u001b[0;34m\u001b[0m\u001b[0;34m\u001b[0m\u001b[0m\n\u001b[1;32m     26\u001b[0m         \u001b[0max\u001b[0m\u001b[0;34m.\u001b[0m\u001b[0mimshow\u001b[0m\u001b[0;34m(\u001b[0m\u001b[0mimage\u001b[0m\u001b[0;34m,\u001b[0m \u001b[0mcmap\u001b[0m\u001b[0;34m=\u001b[0m\u001b[0;34m'gray'\u001b[0m\u001b[0;34m)\u001b[0m\u001b[0;34m\u001b[0m\u001b[0;34m\u001b[0m\u001b[0m\n",
            "\u001b[0;31mTypeError\u001b[0m: unsupported operand type(s) for *: 'numpy.ndarray' and 'Tensor'"
          ]
        },
        {
          "output_type": "display_data",
          "data": {
            "text/plain": [
              "<Figure size 1080x720 with 1 Axes>"
            ],
            "image/png": "[encoded data removed]"
          },
          "metadata": {}
        }
      ]
    },
    {
      "cell_type": "markdown",
      "source": [
        "## Step 5: Save Model"
      ],
      "metadata": {
        "id": "liZpVCHTrbLK"
      }
    },
    {
      "cell_type": "code",
      "source": [
        "# OPTION 1: Save the state dictionary of the model\n",
        "model_dir = 'models/'\n",
        "os.makedirs(os.path.dirname(model_dir), exist_ok=True)\n",
        "filename = 'model_state_dict.pt'\n",
        "\n",
        "# Save the model's learned parameters (state_dict)\n",
        "torch.save(model_resnet.state_dict(), model_dir+filename)\n",
        "\n",
        "# Initialize new model and load state dict previously saved into it\n",
        "model = torchvision.models.resnet18(pretrained=True)\n",
        "model.fc = nn.Linear(model.fc.in_features, 5)\n",
        "in_channels = 1\n",
        "model.conv1 = nn.Conv2d(in_channels, 64, kernel_size=7, stride=2, padding=3, bias=False)\n",
        "\n",
        "model = model.to(device)\n",
        "model.load_state_dict(torch.load(model_dir+filename, map_location=device))\n",
        "\n",
        "# Print model's state_dict\n",
        "print(\"Model's state_dict:\")\n",
        "for param_tensor in model.state_dict():\n",
        "    print(param_tensor, \"\\t\", model.state_dict()[param_tensor].size())\n",
        "    \n",
        "# Test loaded model\n",
        "#acc = test_model(model,testloader,device)\n",
        "#print()\n",
        "#print('Test set accuracy is {:.3f}'.format(acc))"
      ],
      "metadata": {
        "id": "XAkrFCDGrL94",
        "outputId": "56caf17a-2dc1-4340-f689-bc71c7d7f979",
        "colab": {
          "base_uri": "https://localhost:8080/"
        }
      },
      "execution_count": 30,
      "outputs": [
        {
          "output_type": "stream",
          "name": "stdout",
          "text": [
            "Model's state_dict:\n",
            "conv1.weight \t torch.Size([64, 1, 7, 7])\n",
            "bn1.weight \t torch.Size([64])\n",
            "bn1.bias \t torch.Size([64])\n",
            "bn1.running_mean \t torch.Size([64])\n",
            "bn1.running_var \t torch.Size([64])\n",
            "bn1.num_batches_tracked \t torch.Size([])\n",
            "layer1.0.conv1.weight \t torch.Size([64, 64, 3, 3])\n",
            "layer1.0.bn1.weight \t torch.Size([64])\n",
            "layer1.0.bn1.bias \t torch.Size([64])\n",
            "layer1.0.bn1.running_mean \t torch.Size([64])\n",
            "layer1.0.bn1.running_var \t torch.Size([64])\n",
            "layer1.0.bn1.num_batches_tracked \t torch.Size([])\n",
            "layer1.0.conv2.weight \t torch.Size([64, 64, 3, 3])\n",
            "layer1.0.bn2.weight \t torch.Size([64])\n",
            "layer1.0.bn2.bias \t torch.Size([64])\n",
            "layer1.0.bn2.running_mean \t torch.Size([64])\n",
            "layer1.0.bn2.running_var \t torch.Size([64])\n",
            "layer1.0.bn2.num_batches_tracked \t torch.Size([])\n",
            "layer1.1.conv1.weight \t torch.Size([64, 64, 3, 3])\n",
            "layer1.1.bn1.weight \t torch.Size([64])\n",
            "layer1.1.bn1.bias \t torch.Size([64])\n",
            "layer1.1.bn1.running_mean \t torch.Size([64])\n",
            "layer1.1.bn1.running_var \t torch.Size([64])\n",
            "layer1.1.bn1.num_batches_tracked \t torch.Size([])\n",
            "layer1.1.conv2.weight \t torch.Size([64, 64, 3, 3])\n",
            "layer1.1.bn2.weight \t torch.Size([64])\n",
            "layer1.1.bn2.bias \t torch.Size([64])\n",
            "layer1.1.bn2.running_mean \t torch.Size([64])\n",
            "layer1.1.bn2.running_var \t torch.Size([64])\n",
            "layer1.1.bn2.num_batches_tracked \t torch.Size([])\n",
            "layer2.0.conv1.weight \t torch.Size([128, 64, 3, 3])\n",
            "layer2.0.bn1.weight \t torch.Size([128])\n",
            "layer2.0.bn1.bias \t torch.Size([128])\n",
            "layer2.0.bn1.running_mean \t torch.Size([128])\n",
            "layer2.0.bn1.running_var \t torch.Size([128])\n",
            "layer2.0.bn1.num_batches_tracked \t torch.Size([])\n",
            "layer2.0.conv2.weight \t torch.Size([128, 128, 3, 3])\n",
            "layer2.0.bn2.weight \t torch.Size([128])\n",
            "layer2.0.bn2.bias \t torch.Size([128])\n",
            "layer2.0.bn2.running_mean \t torch.Size([128])\n",
            "layer2.0.bn2.running_var \t torch.Size([128])\n",
            "layer2.0.bn2.num_batches_tracked \t torch.Size([])\n",
            "layer2.0.downsample.0.weight \t torch.Size([128, 64, 1, 1])\n",
            "layer2.0.downsample.1.weight \t torch.Size([128])\n",
            "layer2.0.downsample.1.bias \t torch.Size([128])\n",
            "layer2.0.downsample.1.running_mean \t torch.Size([128])\n",
            "layer2.0.downsample.1.running_var \t torch.Size([128])\n",
            "layer2.0.downsample.1.num_batches_tracked \t torch.Size([])\n",
            "layer2.1.conv1.weight \t torch.Size([128, 128, 3, 3])\n",
            "layer2.1.bn1.weight \t torch.Size([128])\n",
            "layer2.1.bn1.bias \t torch.Size([128])\n",
            "layer2.1.bn1.running_mean \t torch.Size([128])\n",
            "layer2.1.bn1.running_var \t torch.Size([128])\n",
            "layer2.1.bn1.num_batches_tracked \t torch.Size([])\n",
            "layer2.1.conv2.weight \t torch.Size([128, 128, 3, 3])\n",
            "layer2.1.bn2.weight \t torch.Size([128])\n",
            "layer2.1.bn2.bias \t torch.Size([128])\n",
            "layer2.1.bn2.running_mean \t torch.Size([128])\n",
            "layer2.1.bn2.running_var \t torch.Size([128])\n",
            "layer2.1.bn2.num_batches_tracked \t torch.Size([])\n",
            "layer3.0.conv1.weight \t torch.Size([256, 128, 3, 3])\n",
            "layer3.0.bn1.weight \t torch.Size([256])\n",
            "layer3.0.bn1.bias \t torch.Size([256])\n",
            "layer3.0.bn1.running_mean \t torch.Size([256])\n",
            "layer3.0.bn1.running_var \t torch.Size([256])\n",
            "layer3.0.bn1.num_batches_tracked \t torch.Size([])\n",
            "layer3.0.conv2.weight \t torch.Size([256, 256, 3, 3])\n",
            "layer3.0.bn2.weight \t torch.Size([256])\n",
            "layer3.0.bn2.bias \t torch.Size([256])\n",
            "layer3.0.bn2.running_mean \t torch.Size([256])\n",
            "layer3.0.bn2.running_var \t torch.Size([256])\n",
            "layer3.0.bn2.num_batches_tracked \t torch.Size([])\n",
            "layer3.0.downsample.0.weight \t torch.Size([256, 128, 1, 1])\n",
            "layer3.0.downsample.1.weight \t torch.Size([256])\n",
            "layer3.0.downsample.1.bias \t torch.Size([256])\n",
            "layer3.0.downsample.1.running_mean \t torch.Size([256])\n",
            "layer3.0.downsample.1.running_var \t torch.Size([256])\n",
            "layer3.0.downsample.1.num_batches_tracked \t torch.Size([])\n",
            "layer3.1.conv1.weight \t torch.Size([256, 256, 3, 3])\n",
            "layer3.1.bn1.weight \t torch.Size([256])\n",
            "layer3.1.bn1.bias \t torch.Size([256])\n",
            "layer3.1.bn1.running_mean \t torch.Size([256])\n",
            "layer3.1.bn1.running_var \t torch.Size([256])\n",
            "layer3.1.bn1.num_batches_tracked \t torch.Size([])\n",
            "layer3.1.conv2.weight \t torch.Size([256, 256, 3, 3])\n",
            "layer3.1.bn2.weight \t torch.Size([256])\n",
            "layer3.1.bn2.bias \t torch.Size([256])\n",
            "layer3.1.bn2.running_mean \t torch.Size([256])\n",
            "layer3.1.bn2.running_var \t torch.Size([256])\n",
            "layer3.1.bn2.num_batches_tracked \t torch.Size([])\n",
            "layer4.0.conv1.weight \t torch.Size([512, 256, 3, 3])\n",
            "layer4.0.bn1.weight \t torch.Size([512])\n",
            "layer4.0.bn1.bias \t torch.Size([512])\n",
            "layer4.0.bn1.running_mean \t torch.Size([512])\n",
            "layer4.0.bn1.running_var \t torch.Size([512])\n",
            "layer4.0.bn1.num_batches_tracked \t torch.Size([])\n",
            "layer4.0.conv2.weight \t torch.Size([512, 512, 3, 3])\n",
            "layer4.0.bn2.weight \t torch.Size([512])\n",
            "layer4.0.bn2.bias \t torch.Size([512])\n",
            "layer4.0.bn2.running_mean \t torch.Size([512])\n",
            "layer4.0.bn2.running_var \t torch.Size([512])\n",
            "layer4.0.bn2.num_batches_tracked \t torch.Size([])\n",
            "layer4.0.downsample.0.weight \t torch.Size([512, 256, 1, 1])\n",
            "layer4.0.downsample.1.weight \t torch.Size([512])\n",
            "layer4.0.downsample.1.bias \t torch.Size([512])\n",
            "layer4.0.downsample.1.running_mean \t torch.Size([512])\n",
            "layer4.0.downsample.1.running_var \t torch.Size([512])\n",
            "layer4.0.downsample.1.num_batches_tracked \t torch.Size([])\n",
            "layer4.1.conv1.weight \t torch.Size([512, 512, 3, 3])\n",
            "layer4.1.bn1.weight \t torch.Size([512])\n",
            "layer4.1.bn1.bias \t torch.Size([512])\n",
            "layer4.1.bn1.running_mean \t torch.Size([512])\n",
            "layer4.1.bn1.running_var \t torch.Size([512])\n",
            "layer4.1.bn1.num_batches_tracked \t torch.Size([])\n",
            "layer4.1.conv2.weight \t torch.Size([512, 512, 3, 3])\n",
            "layer4.1.bn2.weight \t torch.Size([512])\n",
            "layer4.1.bn2.bias \t torch.Size([512])\n",
            "layer4.1.bn2.running_mean \t torch.Size([512])\n",
            "layer4.1.bn2.running_var \t torch.Size([512])\n",
            "layer4.1.bn2.num_batches_tracked \t torch.Size([])\n",
            "fc.weight \t torch.Size([5, 512])\n",
            "fc.bias \t torch.Size([5])\n"
          ]
        }
      ]
    },
    {
      "cell_type": "code",
      "source": [
        "# OPTION 2: Save the entire model\n",
        "\n",
        "model_dir = 'models/'\n",
        "os.makedirs(os.path.dirname(model_dir), exist_ok=True)\n",
        "filename = 'fullmodel.pt'\n",
        "\n",
        "# Save the entire model\n",
        "torch.save(model_resnet, model_dir+filename)\n",
        "\n",
        "# Load model\n",
        "model2 = torch.load(model_dir+filename)\n",
        "\n",
        "# Test loaded model\n",
        "#acc = test_model(model2,testloader,device)\n",
        "#print('Test set accuracy is {:.3f}'.format(acc))"
      ],
      "metadata": {
        "id": "DI0JAkVtriXC"
      },
      "execution_count": 31,
      "outputs": []
    },
    {
      "cell_type": "code",
      "source": [
        "#download\n",
        "from google.colab import files\n",
        "files.download('/content/models/fullmodel.pt')\n",
        "files.download('/content/models/model_state_dict.pt')"
      ],
      "metadata": {
        "id": "R_HpkqszxuS2",
        "outputId": "9931c7fd-bf0a-4b72-ee14-781157c9f558",
        "colab": {
          "base_uri": "https://localhost:8080/",
          "height": 17
        }
      },
      "execution_count": 34,
      "outputs": [
        {
          "output_type": "display_data",
          "data": {
            "text/plain": [
              "<IPython.core.display.Javascript object>"
            ],
            "application/javascript": [
              "\n",
              "    async function download(id, filename, size) {\n",
              "      if (!google.colab.kernel.accessAllowed) {\n",
              "        return;\n",
              "      }\n",
              "      const div = document.createElement('div');\n",
              "      const label = document.createElement('label');\n",
              "      label.textContent = `Downloading \"${filename}\": `;\n",
              "      div.appendChild(label);\n",
              "      const progress = document.createElement('progress');\n",
              "      progress.max = size;\n",
              "      div.appendChild(progress);\n",
              "      document.body.appendChild(div);\n",
              "\n",
              "      const buffers = [];\n",
              "      let downloaded = 0;\n",
              "\n",
              "      const channel = await google.colab.kernel.comms.open(id);\n",
              "      // Send a message to notify the kernel that we're ready.\n",
              "      channel.send({})\n",
              "\n",
              "      for await (const message of channel.messages) {\n",
              "        // Send a message to notify the kernel that we're ready.\n",
              "        channel.send({})\n",
              "        if (message.buffers) {\n",
              "          for (const buffer of message.buffers) {\n",
              "            buffers.push(buffer);\n",
              "            downloaded += buffer.byteLength;\n",
              "            progress.value = downloaded;\n",
              "          }\n",
              "        }\n",
              "      }\n",
              "      const blob = new Blob(buffers, {type: 'application/binary'});\n",
              "      const a = document.createElement('a');\n",
              "      a.href = window.URL.createObjectURL(blob);\n",
              "      a.download = filename;\n",
              "      div.appendChild(a);\n",
              "      a.click();\n",
              "      div.remove();\n",
              "    }\n",
              "  "
            ]
          },
          "metadata": {}
        },
        {
          "output_type": "display_data",
          "data": {
            "text/plain": [
              "<IPython.core.display.Javascript object>"
            ],
            "application/javascript": [
              "download(\"download_f30390f5-c666-412e-a6cf-51943e7088c9\", \"fullmodel.pt\", 44776397)"
            ]
          },
          "metadata": {}
        },
        {
          "output_type": "display_data",
          "data": {
            "text/plain": [
              "<IPython.core.display.Javascript object>"
            ],
            "application/javascript": [
              "\n",
              "    async function download(id, filename, size) {\n",
              "      if (!google.colab.kernel.accessAllowed) {\n",
              "        return;\n",
              "      }\n",
              "      const div = document.createElement('div');\n",
              "      const label = document.createElement('label');\n",
              "      label.textContent = `Downloading \"${filename}\": `;\n",
              "      div.appendChild(label);\n",
              "      const progress = document.createElement('progress');\n",
              "      progress.max = size;\n",
              "      div.appendChild(progress);\n",
              "      document.body.appendChild(div);\n",
              "\n",
              "      const buffers = [];\n",
              "      let downloaded = 0;\n",
              "\n",
              "      const channel = await google.colab.kernel.comms.open(id);\n",
              "      // Send a message to notify the kernel that we're ready.\n",
              "      channel.send({})\n",
              "\n",
              "      for await (const message of channel.messages) {\n",
              "        // Send a message to notify the kernel that we're ready.\n",
              "        channel.send({})\n",
              "        if (message.buffers) {\n",
              "          for (const buffer of message.buffers) {\n",
              "            buffers.push(buffer);\n",
              "            downloaded += buffer.byteLength;\n",
              "            progress.value = downloaded;\n",
              "          }\n",
              "        }\n",
              "      }\n",
              "      const blob = new Blob(buffers, {type: 'application/binary'});\n",
              "      const a = document.createElement('a');\n",
              "      a.href = window.URL.createObjectURL(blob);\n",
              "      a.download = filename;\n",
              "      div.appendChild(a);\n",
              "      a.click();\n",
              "      div.remove();\n",
              "    }\n",
              "  "
            ]
          },
          "metadata": {}
        },
        {
          "output_type": "display_data",
          "data": {
            "text/plain": [
              "<IPython.core.display.Javascript object>"
            ],
            "application/javascript": [
              "download(\"download_514d0447-e7d5-47f9-b3d6-685c842ea8ee\", \"model_state_dict.pt\", 44767501)"
            ]
          },
          "metadata": {}
        }
      ]
    }
  ],
  "metadata": {
    "colab": {
      "collapsed_sections": [],
      "name": "cnn_basics.ipynb",
      "provenance": []
    },
    "kernelspec": {
      "display_name": "Python 3",
      "language": "python",
      "name": "python3"
    },
    "language_info": {
      "codemirror_mode": {
        "name": "ipython",
        "version": 3
      },
      "file_extension": ".py",
      "mimetype": "text/x-python",
      "name": "python",
      "nbconvert_exporter": "python",
      "pygments_lexer": "ipython3",
      "version": "3.8.8"
    }
  },
  "nbformat": 4,
  "nbformat_minor": 0
}