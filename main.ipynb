{
  "cells": [
    {
      "cell_type": "markdown",
      "metadata": {
        "id": "h2OkAhQG2V8n"
      },
      "source": [
        "[![Open In Colab](https://colab.research.google.com/assets/colab-badge.svg)](https://colab.research.google.com/github/googlecolab/colabtools/blob/master/notebooks/colab-github-demo.ipynb)"
      ]
    },
    {
      "cell_type": "markdown",
      "metadata": {
        "id": "Hd6d5Y8L2V85"
      },
      "source": [
        "# Neural Nets for Neural Images: Assessing Brain Age with Computer Vision\n",
        "### Contributors: Dr. Jeffrey Petrella, Maria Williams\n",
        "\n",
        "This project uses transfer learning to train a ResNet18 model to identify the age of a brain from its MRI scan. This kind of identification could potentially be used to flag various congnitive disorders such as Alzhiemers Disease if the \"brain age\" is identified as more advanced than the patient's chronological age."
      ]
    },
    {
      "cell_type": "markdown",
      "metadata": {
        "id": "N3fJN9KGJ7UF"
      },
      "source": [
        "## Step 1: Link Notebook to GitHub"
      ]
    },
    {
      "cell_type": "code",
      "execution_count": 1,
      "metadata": {
        "colab": {
          "base_uri": "https://localhost:8080/"
        },
        "id": "nZRokJihAd3v",
        "outputId": "166a4ec8-f9f7-4d8a-db68-07f5391dc699"
      },
      "outputs": [
        {
          "name": "stdout",
          "output_type": "stream",
          "text": [
            "Cloning into 'BrainAgingComputerVision'...\n",
            "remote: Enumerating objects: 378, done.\u001b[K\n",
            "remote: Counting objects: 100% (378/378), done.\u001b[K\n",
            "remote: Compressing objects: 100% (199/199), done.\u001b[K\n",
            "remote: Total 378 (delta 171), reused 378 (delta 171), pack-reused 0\u001b[K\n",
            "Receiving objects: 100% (378/378), 282.57 MiB | 21.30 MiB/s, done.\n",
            "Resolving deltas: 100% (171/171), done.\n",
            "Checking out files: 100% (16/16), done.\n"
          ]
        }
      ],
      "source": [
        "# Remove Colab default sample_data\n",
        "!rm -r ./sample_data\n",
        "\n",
        "# Clone GitHub files to colab workspace\n",
        "repo_name = \"BrainAgingComputerVision\" # Enter repo name\n",
        "git_path = 'https://github.com/MRWilliamsGit/BrainAgingComputerVision.git'\n",
        "!git clone \"{git_path}\""
      ]
    },
    {
      "cell_type": "markdown",
      "metadata": {
        "id": "SnLUn6QYv71R"
      },
      "source": [
        "## Step 2: Install and Import Dependencies"
      ]
    },
    {
      "cell_type": "code",
      "execution_count": 3,
      "metadata": {
        "colab": {
          "base_uri": "https://localhost:8080/"
        },
        "id": "FyMsybdXt8hV",
        "outputId": "58f5a514-e4bb-4062-9bdc-6c40e94f3c30"
      },
      "outputs": [
        {
          "name": "stdout",
          "output_type": "stream",
          "text": [
            "\u001b[31mERROR: pip's dependency resolver does not currently take into account all the packages that are installed. This behaviour is the source of the following dependency conflicts.\n",
            "flask 1.1.4 requires click<8.0,>=5.1, but you have click 8.1.3 which is incompatible.\n",
            "datascience 0.10.6 requires coverage==3.7.1, but you have coverage 6.4.1 which is incompatible.\n",
            "datascience 0.10.6 requires folium==0.2.1, but you have folium 0.8.3 which is incompatible.\n",
            "coveralls 0.5 requires coverage<3.999,>=3.6, but you have coverage 6.4.1 which is incompatible.\u001b[0m\n"
          ]
        }
      ],
      "source": [
        "#If an error regarding zipfile appears, simply run block again\n",
        "!pip3 install -r \"{os.path.join(repo_name,'requirements.txt')}\"  > /dev/null\n",
        "\n",
        "import os\n",
        "import shutil\n",
        "import numpy as np\n",
        "import pandas as pd\n",
        "import torch\n",
        "from google.colab import drive\n",
        "from google.colab import files\n",
        "from matplotlib import pyplot as plt\n",
        "from PIL import Image\n",
        "\n",
        "from BrainAgingComputerVision.scripts.loaders import RegressionLoaders, SingleLoader\n",
        "from BrainAgingComputerVision.scripts.Rpredicting import BatchPredict, SinglePredict"
      ]
    },
    {
      "cell_type": "markdown",
      "metadata": {
        "id": "4rbCGq7hPn1u"
      },
      "source": [
        "### Step 3: Load Model and Demo Images\n",
        "\n",
        "This Model is a ResNet18 model that has been updated and trained with an average MAE of 5 years over 10 test sets.  \n",
        "\n",
        "There are 10 images provided in image_data.zip for demonstration purposes: \n",
        "\n",
        "\n",
        "\n"
      ]
    },
    {
      "cell_type": "markdown",
      "metadata": {
        "id": "q47bxpALMfnA"
      },
      "source": [
        "![](https://raw.githubusercontent.com/MRWilliamsGit/BrainAgingComputerVision/main/images/examples.png?raw=true)"
      ]
    },
    {
      "cell_type": "code",
      "execution_count": 4,
      "metadata": {
        "id": "tbZqzLDXyT6M"
      },
      "outputs": [],
      "source": [
        "#unzip example images\n",
        "!unzip '/content/BrainAgingComputerVision/sampl_data/image_data.zip' > /dev/null\n",
        "images = [f for f in os.listdir('/content') if os.path.isfile(os.path.join('/content', f))]"
      ]
    },
    {
      "cell_type": "code",
      "execution_count": 5,
      "metadata": {
        "id": "vkPQiFJb2kSv"
      },
      "outputs": [],
      "source": [
        "#get image metadata\n",
        "filein = '/content/BrainAgingComputerVision/sample_data/cn_age_df.csv'\n",
        "CNdata = pd.read_csv(filein)\n",
        "filein = '/content/BrainAgingComputerVision/sample_data/ad_age_df.csv'\n",
        "ADdata = pd.read_csv(filein)"
      ]
    },
    {
      "cell_type": "code",
      "execution_count": 6,
      "metadata": {
        "id": "4phMnamx4X1G"
      },
      "outputs": [],
      "source": [
        "#load model\n",
        "model = torch.load('/content/BrainAgingComputerVision/models/model.pt')"
      ]
    },
    {
      "cell_type": "markdown",
      "metadata": {
        "id": "2sdT3_bEGN0x"
      },
      "source": [
        "### Step 4: Choose Image "
      ]
    },
    {
      "cell_type": "code",
      "execution_count": 13,
      "metadata": {
        "colab": {
          "base_uri": "https://localhost:8080/",
          "height": 264
        },
        "id": "-S0njN9nGS3O",
        "outputId": "e67f89b3-5aa5-43dd-9870-90c17bed40ee"
      },
      "outputs": [
        {
          "data": {
            "image/png": "[encoded data removed]",
            "text/plain": [
              "<Figure size 432x288 with 1 Axes>"
            ]
          },
          "metadata": {
            "needs_background": "light"
          },
          "output_type": "display_data"
        }
      ],
      "source": [
        "#Pick one of the 10 images to see it and see its age\n",
        "pick = 0\n",
        "\n",
        "#open the image\n",
        "here = os.path.join('/content/',images[pick-1])\n",
        "image_3D = np.load(here)\n",
        "im = Image.fromarray((image_3D[85] * 255).astype(np.uint8))\n",
        "im = np.rot90(im)\n",
        "\n",
        "#plot the image\n",
        "plt.imshow(im, interpolation='nearest', cmap='gray')\n",
        "imgn = images[pick-1].split(\".\")[0]\n",
        "line = CNdata.loc[CNdata['Data ID'] == imgn]\n",
        "if len(line)>0:\n",
        "  label = line.iloc[0][5]\n",
        "  plt.title(\"Age: \" + str(label)+ \" (\" +str(imgn) +\")\")\n",
        "  plt.axis('off');\n",
        "else:\n",
        "  line = ADdata.loc[ADdata['Data ID'] == imgn]\n",
        "  label = line.iloc[0][5]\n",
        "  plt.title(\"Age: \" + str(label)+ \"(\" +str(imgn) +\")\")\n",
        "  plt.axis('off');  \n"
      ]
    },
    {
      "cell_type": "markdown",
      "metadata": {
        "id": "dQ0mVATDIYvE"
      },
      "source": [
        "### Step 4: Get Prediction!"
      ]
    },
    {
      "cell_type": "code",
      "execution_count": 14,
      "metadata": {
        "colab": {
          "base_uri": "https://localhost:8080/"
        },
        "id": "XSNQm2lc1qlS",
        "outputId": "b5d4562d-f81c-442c-eae3-50fad355fe7f"
      },
      "outputs": [
        {
          "name": "stdout",
          "output_type": "stream",
          "text": [
            "Pred: 87.5\n"
          ]
        }
      ],
      "source": [
        "device = torch.device(\"cuda:0\" if torch.cuda.is_available() else \"cpu\")\n",
        "\n",
        "#get prediction\n",
        "img = (image_3D[85] * 255).astype(np.uint8)\n",
        "image = SingleLoader(img)\n",
        "pred = SinglePredict(model, image, device)\n",
        "print(\"Pred: \"+str(pred))"
      ]
    }
  ],
  "metadata": {
    "colab": {
      "collapsed_sections": [],
      "name": "cnn_basics.ipynb",
      "provenance": []
    },
    "kernelspec": {
      "display_name": "Python 3",
      "language": "python",
      "name": "python3"
    },
    "language_info": {
      "codemirror_mode": {
        "name": "ipython",
        "version": 3
      },
      "file_extension": ".py",
      "mimetype": "text/x-python",
      "name": "python",
      "nbconvert_exporter": "python",
      "pygments_lexer": "ipython3",
      "version": "3.8.8"
    }
  },
  "nbformat": 4,
  "nbformat_minor": 0
}
