{
 "cells": [
  {
   "cell_type": "markdown",
   "metadata": {
    "id": "h2OkAhQG2V8n"
   },
   "source": [
    "<a href='https://ai.meng.duke.edu'> = <img align=\"left\" style=\"padding-top:10px;\" src=https://storage.googleapis.com/aipi_datasets/Duke-AIPI-Logo.png>"
   ]
  },
  {
   "cell_type": "markdown",
   "metadata": {
    "id": "Hd6d5Y8L2V85"
   },
   "source": [
    "# Neural Nets for Neural Images: Assessing Brain Age with Computer Vision\n",
    "### Contributors: Dr. Jeffrey Petrella, Maria Williams\n",
    "\n",
    "This project uses transfer learning to train a ResNet18 model to identify the age of a brain from its MRI scan. This kind of identification could potentially be used to flag various congnitive disorders such as Alzhiemers Disease if the \"brain age\" is identified as more advanced than the patient's chronological age."
   ]
  },
  {
   "cell_type": "code",
   "execution_count": 1,
   "metadata": {
    "colab": {
     "base_uri": "https://localhost:8080/"
    },
    "id": "FyMsybdXt8hV",
    "outputId": "62a78a96-60e9-496c-ed9f-1069d474db61"
   },
   "outputs": [
    {
     "name": "stdout",
     "output_type": "stream",
     "text": [
      "Looking in indexes: https://pypi.org/simple, https://us-python.pkg.dev/colab-wheels/public/simple/\n",
      "Requirement already satisfied: pillow in /usr/local/lib/python3.7/dist-packages (7.1.2)\n",
      "Looking in indexes: https://pypi.org/simple, https://us-python.pkg.dev/colab-wheels/public/simple/\n",
      "Requirement already satisfied: pip in /usr/local/lib/python3.7/dist-packages (21.1.3)\n",
      "Collecting install\n",
      "  Downloading install-1.3.5-py3-none-any.whl (3.2 kB)\n",
      "Collecting split-folders\n",
      "  Downloading split_folders-0.5.1-py3-none-any.whl (8.4 kB)\n",
      "Installing collected packages: split-folders, install\n",
      "Successfully installed install-1.3.5 split-folders-0.5.1\n"
     ]
    }
   ],
   "source": [
    "import os\n",
    "from google.colab import drive\n",
    "from google.colab import files\n",
    "\n",
    "#for image processing\n",
    "!pip install pillow\n",
    "import random\n",
    "import numpy as np\n",
    "import tensorflow as tf\n",
    "from PIL import Image\n",
    "from matplotlib import pyplot as plt\n",
    "\n",
    "#for metadata\n",
    "import pandas as pd\n",
    "\n",
    "#for data file structure\n",
    "!pip install pip install split-folders\n",
    "import splitfolders\n",
    "import shutil\n",
    "\n",
    "#for modeling\n",
    "import torch\n",
    "import torch.nn as nn\n",
    "import torch.nn.functional as F\n",
    "import torch.optim as optim\n",
    "import torchvision\n",
    "from torchvision import datasets, transforms\n",
    "from torchvision.datasets import ImageFolder\n",
    "from torchvision.transforms import Compose, ToTensor, Resize\n",
    "from torch.utils.data import Subset, DataLoader, Dataset\n",
    "from sklearn.model_selection import train_test_split\n",
    "from torchsummary import summary\n",
    "\n",
    "#for metrics\n",
    "from sklearn.metrics import mean_squared_error"
   ]
  },
  {
   "cell_type": "code",
   "execution_count": 2,
   "metadata": {
    "id": "37tD-xvmKGGJ"
   },
   "outputs": [],
   "source": [
    "device = torch.device(\"cuda:0\" if torch.cuda.is_available() else \"cpu\")"
   ]
  },
  {
   "cell_type": "markdown",
   "metadata": {
    "id": "N3fJN9KGJ7UF"
   },
   "source": [
    "## Step 1: Link Notebook to GitHub and Google Drive"
   ]
  },
  {
   "cell_type": "code",
   "execution_count": 3,
   "metadata": {
    "colab": {
     "base_uri": "https://localhost:8080/"
    },
    "id": "nZRokJihAd3v",
    "outputId": "dbf8a52f-9969-4fe3-d2d1-47cc28242659"
   },
   "outputs": [
    {
     "name": "stdout",
     "output_type": "stream",
     "text": [
      "Cloning into 'BrainAgingComputerVision'...\n",
      "remote: Enumerating objects: 146, done.\u001b[K\n",
      "remote: Counting objects: 100% (36/36), done.\u001b[K\n",
      "remote: Compressing objects: 100% (21/21), done.\u001b[K\n",
      "remote: Total 146 (delta 13), reused 36 (delta 13), pack-reused 110\u001b[K\n",
      "Receiving objects: 100% (146/146), 104.57 MiB | 20.18 MiB/s, done.\n",
      "Resolving deltas: 100% (59/59), done.\n",
      "Mounted at /content/gdrive\n"
     ]
    }
   ],
   "source": [
    "# Remove Colab default sample_data\n",
    "!rm -r ./sample_data\n",
    "\n",
    "# Clone GitHub files to colab workspace\n",
    "repo_name = \"BrainAgingComputerVision\" # Enter repo name\n",
    "git_path = 'https://github.com/MRWilliamsGit/BrainAgingComputerVision.git'\n",
    "!git clone \"{git_path}\"\n",
    "\n",
    "#!pip install -r \"{os.path.join(repo_name,'requirements.txt')}\"\n",
    "\n",
    "# Connect to Google Drive\n",
    "drive.mount('/content/gdrive')\n",
    "#%cd gdrive/MyDrive/School"
   ]
  },
  {
   "cell_type": "markdown",
   "metadata": {},
   "source": [
    "### Step 2: call main"
   ]
  },
  {
   "cell_type": "code",
   "execution_count": null,
   "metadata": {},
   "outputs": [],
   "source": [
    "import "
   ]
  }
 ],
 "metadata": {
  "colab": {
   "collapsed_sections": [],
   "name": "cnn_basics.ipynb",
   "provenance": []
  },
  "kernelspec": {
   "display_name": "Python 3",
   "language": "python",
   "name": "python3"
  },
  "language_info": {
   "codemirror_mode": {
    "name": "ipython",
    "version": 3
   },
   "file_extension": ".py",
   "mimetype": "text/x-python",
   "name": "python",
   "nbconvert_exporter": "python",
   "pygments_lexer": "ipython3",
   "version": "3.8.8"
  }
 },
 "nbformat": 4,
 "nbformat_minor": 1
}
